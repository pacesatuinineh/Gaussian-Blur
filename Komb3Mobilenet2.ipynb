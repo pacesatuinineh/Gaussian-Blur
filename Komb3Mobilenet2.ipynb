{
  "cells": [
    {
      "cell_type": "markdown",
      "metadata": {
        "id": "view-in-github",
        "colab_type": "text"
      },
      "source": [
        "<a href=\"https://colab.research.google.com/github/pacesatuinineh/Gaussian-Blur/blob/main/Komb3Mobilenet2.ipynb\" target=\"_parent\"><img src=\"https://colab.research.google.com/assets/colab-badge.svg\" alt=\"Open In Colab\"/></a>"
      ]
    },
    {
      "cell_type": "code",
      "source": [
        "#!pip install efficientnet==0.0.3\n",
        "!pip install PyWavelets"
      ],
      "metadata": {
        "id": "BYUAJQ01aozs",
        "colab": {
          "base_uri": "https://localhost:8080/"
        },
        "outputId": "753520f8-7e56-468d-dbd2-38b7f2abd1c9"
      },
      "execution_count": 1,
      "outputs": [
        {
          "output_type": "stream",
          "name": "stdout",
          "text": [
            "Collecting PyWavelets\n",
            "  Downloading pywavelets-1.8.0-cp310-cp310-manylinux_2_17_x86_64.manylinux2014_x86_64.whl.metadata (9.0 kB)\n",
            "Requirement already satisfied: numpy<3,>=1.23 in /usr/local/lib/python3.10/dist-packages (from PyWavelets) (1.26.4)\n",
            "Downloading pywavelets-1.8.0-cp310-cp310-manylinux_2_17_x86_64.manylinux2014_x86_64.whl (4.5 MB)\n",
            "\u001b[2K   \u001b[90m━━━━━━━━━━━━━━━━━━━━━━━━━━━━━━━━━━━━━━━━\u001b[0m \u001b[32m4.5/4.5 MB\u001b[0m \u001b[31m34.7 MB/s\u001b[0m eta \u001b[36m0:00:00\u001b[0m\n",
            "\u001b[?25hInstalling collected packages: PyWavelets\n",
            "Successfully installed PyWavelets-1.8.0\n"
          ]
        }
      ]
    },
    {
      "cell_type": "code",
      "execution_count": 2,
      "metadata": {
        "id": "O1uQFkh1OR73"
      },
      "outputs": [],
      "source": [
        "import cv2\n",
        "import numpy as np\n",
        "import os\n",
        "import pandas as pd\n",
        "from skimage.feature import hog\n",
        "from skimage.color import rgb2gray\n",
        "from sklearn.preprocessing import LabelEncoder\n",
        "from sklearn.metrics import accuracy_score, confusion_matrix, classification_report\n",
        "import matplotlib.pyplot as plt\n",
        "import seaborn as sns\n",
        "import tensorflow as tf\n",
        "from tensorflow.keras.models import Model\n",
        "from tensorflow.keras.layers import Dense, Dropout, GlobalAveragePooling2D, BatchNormalization, Input\n",
        "from tensorflow.keras.preprocessing.image import ImageDataGenerator\n",
        "#from tensorflow.keras.applications import ResNet50\n",
        "from tensorflow.keras.utils import to_categorical\n",
        "from sklearn.decomposition import PCA\n",
        "from sklearn.utils.class_weight import compute_class_weight\n",
        "#from efficientnet.tfkeras import EfficientNetB0\n",
        "#from tensorflow.keras.applications import VGG16\n",
        "from tensorflow.keras.applications import MobileNetV2\n",
        "import matplotlib.pyplot as plt\n",
        "import numpy as np\n",
        "import pywt\n"
      ]
    },
    {
      "cell_type": "code",
      "execution_count": 3,
      "metadata": {
        "id": "kdVXkRGgR6Nt",
        "colab": {
          "base_uri": "https://localhost:8080/"
        },
        "outputId": "f215ef6e-4f7a-4a46-c488-dde2984c400b"
      },
      "outputs": [
        {
          "output_type": "stream",
          "name": "stdout",
          "text": [
            "Mounted at /content/drive\n"
          ]
        }
      ],
      "source": [
        "from google.colab import drive\n",
        "drive.mount('/content/drive')\n",
        "\n"
      ]
    },
    {
      "cell_type": "code",
      "source": [
        "# Paths\n",
        "data_path = \"/content/drive/MyDrive/modifdataset\"  # Adjust the path to where 'papua-1' and 'papua-2' are located\n",
        "\n"
      ],
      "metadata": {
        "id": "4ElfjpaY6q6v"
      },
      "execution_count": 4,
      "outputs": []
    },
    {
      "cell_type": "code",
      "execution_count": 5,
      "metadata": {
        "id": "TzpkhnbsR_Q7"
      },
      "outputs": [],
      "source": [
        "# Constants\n",
        "IMAGE_SIZE = (224, 224)\n",
        "BATCH_SIZE = 32\n",
        "EPOCHS = 100"
      ]
    },
    {
      "cell_type": "code",
      "execution_count": 6,
      "metadata": {
        "id": "69Ch8XRnSFsg"
      },
      "outputs": [],
      "source": [
        "# Preprocessing Function\n",
        "def preprocess_image(image):\n",
        "    # Resize image\n",
        "    image = cv2.resize(image, IMAGE_SIZE)\n",
        "    # Histogram equalization\n",
        "    image = cv2.cvtColor(image, cv2.COLOR_BGR2GRAY)\n",
        "    image = cv2.equalizeHist(image)\n",
        "    # Apply noise reduction\n",
        "    image = cv2.fastNlMeansDenoising(image, h=10)\n",
        "    # Convert back to RGB\n",
        "    return cv2.cvtColor(image, cv2.COLOR_GRAY2RGB)"
      ]
    },
    {
      "cell_type": "code",
      "source": [
        "def apply_haar_wavelet_and_gaussian(image):\n",
        "    coeffs2 = pywt.dwt2(image, 'haar')\n",
        "    LL, (LH, HL, HH) = coeffs2\n",
        "    LL_gaussian = cv2.GaussianBlur(LL, (5, 5), 0)  # Apply Gaussian filter\n",
        "    return LL_gaussian  # Use the low-frequency component with Gaussian filter"
      ],
      "metadata": {
        "id": "35xK0a6ZwI3W"
      },
      "execution_count": 7,
      "outputs": []
    },
    {
      "cell_type": "code",
      "execution_count": 8,
      "metadata": {
        "id": "A13Ba3tKSKGT"
      },
      "outputs": [],
      "source": [
        "# Function to apply Haar wavelet transformation\n",
        "def apply_haar_wavelet(image):\n",
        "    I = image.astype(float)\n",
        "    m, n = I.shape[:2]\n",
        "    if m % 2 != 0:\n",
        "        m -= 1\n",
        "    if n % 2 != 0:\n",
        "        n -= 1\n",
        "    I = I[:m, :n]\n",
        "\n",
        "    LL = np.zeros((m // 2, n // 2))\n",
        "    for i in range(0, m, 2):\n",
        "        for j in range(0, n, 2):\n",
        "            Ixy = I[i:i + 2, j:j + 2]\n",
        "            LL[i // 2, j // 2] = np.mean(Ixy)\n",
        "    return LL"
      ]
    },
    {
      "cell_type": "code",
      "execution_count": 9,
      "metadata": {
        "id": "XpeyGgyySM3z"
      },
      "outputs": [],
      "source": [
        "# Function to extract HOG features\n",
        "def extract_hog_features(image):\n",
        "    if len(image.shape) == 3:\n",
        "        image = rgb2gray(image)\n",
        "    features, _ = hog(image, pixels_per_cell=(8, 8), cells_per_block=(2, 2), visualize=True)\n",
        "    return features"
      ]
    },
    {
      "cell_type": "code",
      "execution_count": 10,
      "metadata": {
        "id": "rBFoJaueSSPd"
      },
      "outputs": [],
      "source": [
        "def load_data(path):\n",
        "    data = []\n",
        "    labels = []\n",
        "    for folder in os.listdir(path):\n",
        "        folder_path = os.path.join(path, folder)\n",
        "        if os.path.isdir(folder_path):\n",
        "            for file in os.listdir(folder_path):\n",
        "                file_path = os.path.join(folder_path, file)\n",
        "                image = cv2.imread(file_path)\n",
        "                if image is not None:\n",
        "                    # Preprocess image\n",
        "                    image = preprocess_image(image)\n",
        "\n",
        "                    # Apply Haar wavelet\n",
        "                    #haar_image = apply_haar_wavelet(image)\n",
        "\n",
        "                    #Resize the image to 224x224 for ResNet50\n",
        "                    ##haar_image = apply_haar_wavelet_and_gaussian(haar_image)\n",
        "\n",
        "                    # Extract HOG features\n",
        "                    #hog_features = extract_hog_features(haar_image)\n",
        "\n",
        "                    # Extract Gabor features\n",
        "                    #gabor_features = extract_gabor_features(image)\n",
        "\n",
        "\n",
        "                    #Extract Haar + Gabor\n",
        "                    #combined_features = np.concatenate([haar_image.flatten(), gabor_features])\n",
        "\n",
        "                    # 1. Gaussian Smoothing\n",
        "                    gaussian_image = cv2.GaussianBlur(image, (5, 5), 0)\n",
        "\n",
        "                    # 2. Haar Wavelet (Modified for 3 channels)\n",
        "                    haar_image_LL = apply_haar_wavelet_and_gaussian(gaussian_image[:,:,0]) #Channel R\n",
        "                    haar_image_LH = apply_haar_wavelet_and_gaussian(gaussian_image[:,:,1]) #Channel G\n",
        "                    haar_image_HL = apply_haar_wavelet_and_gaussian(gaussian_image[:,:,2]) #Channel B\n",
        "                    haar_image = np.stack([haar_image_LL,haar_image_LH, haar_image_HL], axis=-1)\n",
        "                    haar_image = cv2.resize(haar_image.astype(np.uint8), IMAGE_SIZE)\n",
        "\n",
        "                    # 3. HOG Features (on the 3-channel Haar output)\n",
        "                    hog_features = extract_hog_features(haar_image)\n",
        "\n",
        "                    data.append(hog_features)  # Append the processed image\n",
        "\n",
        "                    #data.append(combined_features)  # Append the processed image\n",
        "\n",
        "                    labels.append(folder)\n",
        "\n",
        "    return np.array(data), np.array(labels)"
      ]
    },
    {
      "cell_type": "code",
      "source": [],
      "metadata": {
        "id": "0-h4fArUwFWs"
      },
      "execution_count": 10,
      "outputs": []
    },
    {
      "cell_type": "code",
      "source": [],
      "metadata": {
        "id": "o2VSNKJ2-Hw1"
      },
      "execution_count": 10,
      "outputs": []
    },
    {
      "cell_type": "code",
      "source": [],
      "metadata": {
        "id": "LeIgxb8g-MVb"
      },
      "execution_count": 10,
      "outputs": []
    },
    {
      "cell_type": "code",
      "execution_count": 11,
      "metadata": {
        "id": "KAP0lMIcSU1u"
      },
      "outputs": [],
      "source": [
        "# Load dataset\n",
        "data, labels = load_data(data_path)"
      ]
    },
    {
      "cell_type": "code",
      "source": [],
      "metadata": {
        "id": "agKK3jlu-M3D"
      },
      "execution_count": 11,
      "outputs": []
    },
    {
      "cell_type": "code",
      "source": [],
      "metadata": {
        "id": "xdUyEy3i8q2Z"
      },
      "execution_count": 11,
      "outputs": []
    },
    {
      "cell_type": "code",
      "source": [
        "num_images_to_display = 4  # Jumlah gambar yang ingin ditampilkan\n",
        "sample_images = data[:num_images_to_display]\n",
        "sample_labels = labels[:num_images_to_display]"
      ],
      "metadata": {
        "id": "HX3lp1Hs5Hq1"
      },
      "execution_count": 12,
      "outputs": []
    },
    {
      "cell_type": "code",
      "source": [
        "#fig, axes = plt.subplots(1, num_images_to_display, figsize=(15, 5))  # Sesuaikan figsize jika perlu\n",
        "#for i, (image, label) in enumerate(zip(sample_images, sample_labels)):\n",
        "#    axes[i].imshow(image.astype(np.uint8), cmap='gray')\n",
        "#    axes[i].axis('off')\n",
        "#    axes[i].set_title(label)  # Menampilkan label sebagai judul di bawah gambar\n",
        "#plt.show()"
      ],
      "metadata": {
        "id": "Ot6yezTv5JCU"
      },
      "execution_count": 13,
      "outputs": []
    },
    {
      "cell_type": "code",
      "execution_count": 14,
      "metadata": {
        "id": "T1Uftjw3SVSf"
      },
      "outputs": [],
      "source": [
        "# Encode labels\n",
        "encoder = LabelEncoder()\n",
        "labels_encoded = encoder.fit_transform(labels)\n"
      ]
    },
    {
      "cell_type": "code",
      "execution_count": 15,
      "metadata": {
        "id": "x47i3r-qSXC5"
      },
      "outputs": [],
      "source": [
        "# Split into training and testing\n",
        "from sklearn.model_selection import train_test_split\n",
        "train_data, test_data, train_labels, test_labels = train_test_split(data, labels_encoded, test_size=0.2, random_state=42)\n"
      ]
    },
    {
      "cell_type": "code",
      "execution_count": 16,
      "metadata": {
        "id": "KktpjT5iSZrZ"
      },
      "outputs": [],
      "source": [
        "# Class weights\n",
        "class_weights = compute_class_weight('balanced', classes=np.unique(train_labels), y=train_labels)\n",
        "class_weight_dict = dict(enumerate(class_weights))\n"
      ]
    },
    {
      "cell_type": "code",
      "execution_count": 17,
      "metadata": {
        "id": "CPJhEjBfSb0v",
        "colab": {
          "base_uri": "https://localhost:8080/"
        },
        "outputId": "37937328-d06b-4281-c1a2-776dcfbc62ba"
      },
      "outputs": [
        {
          "output_type": "stream",
          "name": "stdout",
          "text": [
            "Downloading data from https://storage.googleapis.com/tensorflow/keras-applications/mobilenet_v2/mobilenet_v2_weights_tf_dim_ordering_tf_kernels_1.0_224_no_top.h5\n",
            "\u001b[1m9406464/9406464\u001b[0m \u001b[32m━━━━━━━━━━━━━━━━━━━━\u001b[0m\u001b[37m\u001b[0m \u001b[1m0s\u001b[0m 0us/step\n"
          ]
        }
      ],
      "source": [
        "# Define CNN model with pretrained ResNet50\n",
        "def build_model():\n",
        "    input_tensor = Input(shape=(224, 224, 3))\n",
        "    #base_model = ResNet50(weights='imagenet', include_top=False, input_tensor=input_tensor)\n",
        "    #base_model = EfficientNetB0(weights='imagenet', include_top=False, input_tensor=input_tensor)  # Ganti ResNet50 dengan EfficientNetB\n",
        "    #base_model = VGG16(weights='imagenet', include_top=False, input_tensor=input_tensor)\n",
        "    base_model = MobileNetV2(weights='imagenet', include_top=False, input_shape=(224, 224, 3))\n",
        "    x = base_model.output\n",
        "    x = GlobalAveragePooling2D()(x)\n",
        "    x = BatchNormalization()(x)\n",
        "    x = Dense(512, activation='relu', kernel_regularizer=tf.keras.regularizers.l2(0.01))(x)  # Tambahan lapisan\n",
        "    x = Dropout(0.5)(x)\n",
        "    x = Dense(256, activation='relu', kernel_regularizer=tf.keras.regularizers.l2(0.01))(x)\n",
        "    x = Dropout(0.5)(x)\n",
        "    x = Dense(128, activation='relu', kernel_regularizer=tf.keras.regularizers.l2(0.01))(x)\n",
        "    x = Dropout(0.5)(x)\n",
        "    predictions = Dense(len(encoder.classes_), activation='softmax')(x)\n",
        "\n",
        "    model = Model(inputs=base_model.input, outputs=predictions)\n",
        "\n",
        "    # Unfreeze the top layers of the model\n",
        "    for layer in base_model.layers[-50:]:\n",
        "        layer.trainable = True\n",
        "\n",
        "    # Compile model\n",
        "    model.compile(optimizer=tf.keras.optimizers.Adam(learning_rate=1e-4), loss='categorical_crossentropy', metrics=['accuracy'])\n",
        "    return model\n",
        "\n",
        "model = build_model()"
      ]
    },
    {
      "cell_type": "code",
      "execution_count": 18,
      "metadata": {
        "id": "T4xJ7D2bSf6F"
      },
      "outputs": [],
      "source": [
        "# Data augmentation\n",
        "train_datagen = ImageDataGenerator(\n",
        "    #rotation_range=40,\n",
        "    width_shift_range=0.3,\n",
        "    height_shift_range=0.3,\n",
        "    shear_range=0.5,\n",
        "    #zoom_range=0.5,\n",
        "    #horizontal_flip=True,\n",
        "    brightness_range=[0.8, 1.2],\n",
        "    #fill_mode='nearest'\n",
        ")"
      ]
    },
    {
      "cell_type": "code",
      "execution_count": 19,
      "metadata": {
        "id": "xAcGlN-0SlhF"
      },
      "outputs": [],
      "source": [
        "test_datagen = ImageDataGenerator()"
      ]
    },
    {
      "cell_type": "code",
      "execution_count": 20,
      "metadata": {
        "id": "0GbT6qBdSogc"
      },
      "outputs": [],
      "source": [
        "# Load and preprocess images for CNN\n",
        "def load_and_preprocess_images(path):\n",
        "    images = []\n",
        "    labels = []\n",
        "    for folder in os.listdir(path):\n",
        "        folder_path = os.path.join(path, folder)\n",
        "        if os.path.isdir(folder_path):\n",
        "            for file in os.listdir(folder_path):\n",
        "                file_path = os.path.join(folder_path, file)\n",
        "                image = cv2.imread(file_path)\n",
        "                if image is not None:\n",
        "                    image = preprocess_image(image)\n",
        "                    images.append(image)\n",
        "                    labels.append(folder)\n",
        "    return np.array(images), np.array(labels)\n"
      ]
    },
    {
      "cell_type": "code",
      "execution_count": 21,
      "metadata": {
        "id": "WiDv3UB1SpWF"
      },
      "outputs": [],
      "source": [
        "train_images, train_labels = load_and_preprocess_images(data_path)\n",
        "test_images, test_labels = load_and_preprocess_images(data_path)\n"
      ]
    },
    {
      "cell_type": "code",
      "execution_count": 22,
      "metadata": {
        "id": "w-O35jj_SrTj"
      },
      "outputs": [],
      "source": [
        "# Encode labels\n",
        "train_labels_encoded = encoder.fit_transform(train_labels)\n",
        "test_labels_encoded = encoder.transform(test_labels)\n",
        "\n",
        "train_labels_categorical = to_categorical(train_labels_encoded)\n",
        "test_labels_categorical = to_categorical(test_labels_encoded)\n",
        "\n",
        "# Callbacks\n",
        "reduce_lr = tf.keras.callbacks.ReduceLROnPlateau(monitor='val_loss', factor=0.2, patience=5, min_lr=1e-5)\n",
        "early_stopping = tf.keras.callbacks.EarlyStopping(monitor='val_loss', patience=5, restore_best_weights=True)\n"
      ]
    },
    {
      "cell_type": "code",
      "execution_count": 23,
      "metadata": {
        "id": "NOUQWru6SvQZ",
        "colab": {
          "base_uri": "https://localhost:8080/"
        },
        "outputId": "bac69c0c-3975-4c4e-891e-4310c11407f4"
      },
      "outputs": [
        {
          "output_type": "stream",
          "name": "stdout",
          "text": [
            "Epoch 1/100\n"
          ]
        },
        {
          "output_type": "stream",
          "name": "stderr",
          "text": [
            "/usr/local/lib/python3.10/dist-packages/keras/src/trainers/data_adapters/py_dataset_adapter.py:122: UserWarning: Your `PyDataset` class should call `super().__init__(**kwargs)` in its constructor. `**kwargs` can include `workers`, `use_multiprocessing`, `max_queue_size`. Do not pass these arguments to `fit()`, as they will be ignored.\n",
            "  self._warn_if_super_not_called()\n"
          ]
        },
        {
          "output_type": "stream",
          "name": "stdout",
          "text": [
            "\u001b[1m48/48\u001b[0m \u001b[32m━━━━━━━━━━━━━━━━━━━━\u001b[0m\u001b[37m\u001b[0m \u001b[1m99s\u001b[0m 997ms/step - accuracy: 0.2092 - loss: 15.5539 - val_accuracy: 0.2083 - val_loss: 13.9553 - learning_rate: 1.0000e-04\n",
            "Epoch 2/100\n",
            "\u001b[1m48/48\u001b[0m \u001b[32m━━━━━━━━━━━━━━━━━━━━\u001b[0m\u001b[37m\u001b[0m \u001b[1m19s\u001b[0m 347ms/step - accuracy: 0.1945 - loss: 14.7333 - val_accuracy: 0.2410 - val_loss: 13.7484 - learning_rate: 1.0000e-04\n",
            "Epoch 3/100\n",
            "\u001b[1m48/48\u001b[0m \u001b[32m━━━━━━━━━━━━━━━━━━━━\u001b[0m\u001b[37m\u001b[0m \u001b[1m19s\u001b[0m 345ms/step - accuracy: 0.1885 - loss: 14.3468 - val_accuracy: 0.2358 - val_loss: 13.5822 - learning_rate: 1.0000e-04\n",
            "Epoch 4/100\n",
            "\u001b[1m48/48\u001b[0m \u001b[32m━━━━━━━━━━━━━━━━━━━━\u001b[0m\u001b[37m\u001b[0m \u001b[1m19s\u001b[0m 344ms/step - accuracy: 0.2079 - loss: 14.1152 - val_accuracy: 0.2423 - val_loss: 13.4136 - learning_rate: 1.0000e-04\n",
            "Epoch 5/100\n",
            "\u001b[1m48/48\u001b[0m \u001b[32m━━━━━━━━━━━━━━━━━━━━\u001b[0m\u001b[37m\u001b[0m \u001b[1m19s\u001b[0m 350ms/step - accuracy: 0.2263 - loss: 13.6944 - val_accuracy: 0.2364 - val_loss: 13.2513 - learning_rate: 1.0000e-04\n",
            "Epoch 6/100\n",
            "\u001b[1m48/48\u001b[0m \u001b[32m━━━━━━━━━━━━━━━━━━━━\u001b[0m\u001b[37m\u001b[0m \u001b[1m19s\u001b[0m 342ms/step - accuracy: 0.2223 - loss: 13.5224 - val_accuracy: 0.2279 - val_loss: 13.0879 - learning_rate: 1.0000e-04\n",
            "Epoch 7/100\n",
            "\u001b[1m48/48\u001b[0m \u001b[32m━━━━━━━━━━━━━━━━━━━━\u001b[0m\u001b[37m\u001b[0m \u001b[1m19s\u001b[0m 344ms/step - accuracy: 0.2134 - loss: 13.2964 - val_accuracy: 0.2299 - val_loss: 12.9054 - learning_rate: 1.0000e-04\n",
            "Epoch 8/100\n",
            "\u001b[1m48/48\u001b[0m \u001b[32m━━━━━━━━━━━━━━━━━━━━\u001b[0m\u001b[37m\u001b[0m \u001b[1m19s\u001b[0m 350ms/step - accuracy: 0.2266 - loss: 13.0749 - val_accuracy: 0.2508 - val_loss: 12.7196 - learning_rate: 1.0000e-04\n",
            "Epoch 9/100\n",
            "\u001b[1m48/48\u001b[0m \u001b[32m━━━━━━━━━━━━━━━━━━━━\u001b[0m\u001b[37m\u001b[0m \u001b[1m19s\u001b[0m 346ms/step - accuracy: 0.2368 - loss: 12.8805 - val_accuracy: 0.2561 - val_loss: 12.5304 - learning_rate: 1.0000e-04\n",
            "Epoch 10/100\n",
            "\u001b[1m48/48\u001b[0m \u001b[32m━━━━━━━━━━━━━━━━━━━━\u001b[0m\u001b[37m\u001b[0m \u001b[1m19s\u001b[0m 350ms/step - accuracy: 0.2365 - loss: 12.6377 - val_accuracy: 0.2567 - val_loss: 12.3548 - learning_rate: 1.0000e-04\n",
            "Epoch 11/100\n",
            "\u001b[1m48/48\u001b[0m \u001b[32m━━━━━━━━━━━━━━━━━━━━\u001b[0m\u001b[37m\u001b[0m \u001b[1m19s\u001b[0m 343ms/step - accuracy: 0.2497 - loss: 12.4267 - val_accuracy: 0.2547 - val_loss: 12.1722 - learning_rate: 1.0000e-04\n",
            "Epoch 12/100\n",
            "\u001b[1m48/48\u001b[0m \u001b[32m━━━━━━━━━━━━━━━━━━━━\u001b[0m\u001b[37m\u001b[0m \u001b[1m19s\u001b[0m 343ms/step - accuracy: 0.2720 - loss: 12.2429 - val_accuracy: 0.2639 - val_loss: 11.9802 - learning_rate: 1.0000e-04\n",
            "Epoch 13/100\n",
            "\u001b[1m48/48\u001b[0m \u001b[32m━━━━━━━━━━━━━━━━━━━━\u001b[0m\u001b[37m\u001b[0m \u001b[1m19s\u001b[0m 341ms/step - accuracy: 0.2734 - loss: 12.0006 - val_accuracy: 0.2305 - val_loss: 11.8063 - learning_rate: 1.0000e-04\n",
            "Epoch 14/100\n",
            "\u001b[1m48/48\u001b[0m \u001b[32m━━━━━━━━━━━━━━━━━━━━\u001b[0m\u001b[37m\u001b[0m \u001b[1m19s\u001b[0m 344ms/step - accuracy: 0.2575 - loss: 11.8220 - val_accuracy: 0.2240 - val_loss: 11.6304 - learning_rate: 1.0000e-04\n",
            "Epoch 15/100\n",
            "\u001b[1m48/48\u001b[0m \u001b[32m━━━━━━━━━━━━━━━━━━━━\u001b[0m\u001b[37m\u001b[0m \u001b[1m19s\u001b[0m 345ms/step - accuracy: 0.2895 - loss: 11.5760 - val_accuracy: 0.2541 - val_loss: 11.4138 - learning_rate: 1.0000e-04\n",
            "Epoch 16/100\n",
            "\u001b[1m48/48\u001b[0m \u001b[32m━━━━━━━━━━━━━━━━━━━━\u001b[0m\u001b[37m\u001b[0m \u001b[1m19s\u001b[0m 340ms/step - accuracy: 0.2850 - loss: 11.4080 - val_accuracy: 0.2737 - val_loss: 11.2129 - learning_rate: 1.0000e-04\n",
            "Epoch 17/100\n",
            "\u001b[1m48/48\u001b[0m \u001b[32m━━━━━━━━━━━━━━━━━━━━\u001b[0m\u001b[37m\u001b[0m \u001b[1m19s\u001b[0m 342ms/step - accuracy: 0.2812 - loss: 11.1846 - val_accuracy: 0.3006 - val_loss: 11.0006 - learning_rate: 1.0000e-04\n",
            "Epoch 18/100\n",
            "\u001b[1m48/48\u001b[0m \u001b[32m━━━━━━━━━━━━━━━━━━━━\u001b[0m\u001b[37m\u001b[0m \u001b[1m19s\u001b[0m 344ms/step - accuracy: 0.3238 - loss: 10.9564 - val_accuracy: 0.2986 - val_loss: 10.8082 - learning_rate: 1.0000e-04\n",
            "Epoch 19/100\n",
            "\u001b[1m48/48\u001b[0m \u001b[32m━━━━━━━━━━━━━━━━━━━━\u001b[0m\u001b[37m\u001b[0m \u001b[1m19s\u001b[0m 345ms/step - accuracy: 0.3264 - loss: 10.7508 - val_accuracy: 0.3111 - val_loss: 10.6016 - learning_rate: 1.0000e-04\n",
            "Epoch 20/100\n",
            "\u001b[1m48/48\u001b[0m \u001b[32m━━━━━━━━━━━━━━━━━━━━\u001b[0m\u001b[37m\u001b[0m \u001b[1m19s\u001b[0m 340ms/step - accuracy: 0.3300 - loss: 10.5285 - val_accuracy: 0.3032 - val_loss: 10.4125 - learning_rate: 1.0000e-04\n",
            "Epoch 21/100\n",
            "\u001b[1m48/48\u001b[0m \u001b[32m━━━━━━━━━━━━━━━━━━━━\u001b[0m\u001b[37m\u001b[0m \u001b[1m19s\u001b[0m 344ms/step - accuracy: 0.3604 - loss: 10.3437 - val_accuracy: 0.3163 - val_loss: 10.1977 - learning_rate: 1.0000e-04\n",
            "Epoch 22/100\n",
            "\u001b[1m48/48\u001b[0m \u001b[32m━━━━━━━━━━━━━━━━━━━━\u001b[0m\u001b[37m\u001b[0m \u001b[1m19s\u001b[0m 340ms/step - accuracy: 0.3866 - loss: 10.1216 - val_accuracy: 0.3392 - val_loss: 10.0011 - learning_rate: 1.0000e-04\n",
            "Epoch 23/100\n",
            "\u001b[1m48/48\u001b[0m \u001b[32m━━━━━━━━━━━━━━━━━━━━\u001b[0m\u001b[37m\u001b[0m \u001b[1m19s\u001b[0m 341ms/step - accuracy: 0.3708 - loss: 9.9169 - val_accuracy: 0.3707 - val_loss: 9.7727 - learning_rate: 1.0000e-04\n",
            "Epoch 24/100\n",
            "\u001b[1m48/48\u001b[0m \u001b[32m━━━━━━━━━━━━━━━━━━━━\u001b[0m\u001b[37m\u001b[0m \u001b[1m19s\u001b[0m 341ms/step - accuracy: 0.3850 - loss: 9.7110 - val_accuracy: 0.3117 - val_loss: 9.6664 - learning_rate: 1.0000e-04\n",
            "Epoch 25/100\n",
            "\u001b[1m48/48\u001b[0m \u001b[32m━━━━━━━━━━━━━━━━━━━━\u001b[0m\u001b[37m\u001b[0m \u001b[1m19s\u001b[0m 341ms/step - accuracy: 0.3848 - loss: 9.5170 - val_accuracy: 0.3386 - val_loss: 9.4390 - learning_rate: 1.0000e-04\n",
            "Epoch 26/100\n",
            "\u001b[1m48/48\u001b[0m \u001b[32m━━━━━━━━━━━━━━━━━━━━\u001b[0m\u001b[37m\u001b[0m \u001b[1m19s\u001b[0m 347ms/step - accuracy: 0.4140 - loss: 9.3226 - val_accuracy: 0.3268 - val_loss: 9.2654 - learning_rate: 1.0000e-04\n",
            "Epoch 27/100\n",
            "\u001b[1m48/48\u001b[0m \u001b[32m━━━━━━━━━━━━━━━━━━━━\u001b[0m\u001b[37m\u001b[0m \u001b[1m19s\u001b[0m 351ms/step - accuracy: 0.4197 - loss: 9.0826 - val_accuracy: 0.3333 - val_loss: 9.0703 - learning_rate: 1.0000e-04\n",
            "Epoch 28/100\n",
            "\u001b[1m48/48\u001b[0m \u001b[32m━━━━━━━━━━━━━━━━━━━━\u001b[0m\u001b[37m\u001b[0m \u001b[1m19s\u001b[0m 345ms/step - accuracy: 0.4435 - loss: 8.8962 - val_accuracy: 0.4204 - val_loss: 8.7679 - learning_rate: 1.0000e-04\n",
            "Epoch 29/100\n",
            "\u001b[1m48/48\u001b[0m \u001b[32m━━━━━━━━━━━━━━━━━━━━\u001b[0m\u001b[37m\u001b[0m \u001b[1m19s\u001b[0m 341ms/step - accuracy: 0.4197 - loss: 8.7386 - val_accuracy: 0.4165 - val_loss: 8.5949 - learning_rate: 1.0000e-04\n",
            "Epoch 30/100\n",
            "\u001b[1m48/48\u001b[0m \u001b[32m━━━━━━━━━━━━━━━━━━━━\u001b[0m\u001b[37m\u001b[0m \u001b[1m19s\u001b[0m 344ms/step - accuracy: 0.4745 - loss: 8.4655 - val_accuracy: 0.4093 - val_loss: 8.3954 - learning_rate: 1.0000e-04\n",
            "Epoch 31/100\n",
            "\u001b[1m48/48\u001b[0m \u001b[32m━━━━━━━━━━━━━━━━━━━━\u001b[0m\u001b[37m\u001b[0m \u001b[1m19s\u001b[0m 340ms/step - accuracy: 0.4772 - loss: 8.2801 - val_accuracy: 0.4984 - val_loss: 8.1257 - learning_rate: 1.0000e-04\n",
            "Epoch 32/100\n",
            "\u001b[1m48/48\u001b[0m \u001b[32m━━━━━━━━━━━━━━━━━━━━\u001b[0m\u001b[37m\u001b[0m \u001b[1m19s\u001b[0m 343ms/step - accuracy: 0.4605 - loss: 8.0712 - val_accuracy: 0.5344 - val_loss: 7.9306 - learning_rate: 1.0000e-04\n",
            "Epoch 33/100\n",
            "\u001b[1m48/48\u001b[0m \u001b[32m━━━━━━━━━━━━━━━━━━━━\u001b[0m\u001b[37m\u001b[0m \u001b[1m19s\u001b[0m 343ms/step - accuracy: 0.5084 - loss: 7.8572 - val_accuracy: 0.5599 - val_loss: 7.6754 - learning_rate: 1.0000e-04\n",
            "Epoch 34/100\n",
            "\u001b[1m48/48\u001b[0m \u001b[32m━━━━━━━━━━━━━━━━━━━━\u001b[0m\u001b[37m\u001b[0m \u001b[1m19s\u001b[0m 343ms/step - accuracy: 0.5066 - loss: 7.6958 - val_accuracy: 0.5455 - val_loss: 7.5386 - learning_rate: 1.0000e-04\n",
            "Epoch 35/100\n",
            "\u001b[1m48/48\u001b[0m \u001b[32m━━━━━━━━━━━━━━━━━━━━\u001b[0m\u001b[37m\u001b[0m \u001b[1m19s\u001b[0m 346ms/step - accuracy: 0.4830 - loss: 7.4953 - val_accuracy: 0.5665 - val_loss: 7.3410 - learning_rate: 1.0000e-04\n",
            "Epoch 36/100\n",
            "\u001b[1m48/48\u001b[0m \u001b[32m━━━━━━━━━━━━━━━━━━━━\u001b[0m\u001b[37m\u001b[0m \u001b[1m19s\u001b[0m 342ms/step - accuracy: 0.5534 - loss: 7.2473 - val_accuracy: 0.5429 - val_loss: 7.1873 - learning_rate: 1.0000e-04\n",
            "Epoch 37/100\n",
            "\u001b[1m48/48\u001b[0m \u001b[32m━━━━━━━━━━━━━━━━━━━━\u001b[0m\u001b[37m\u001b[0m \u001b[1m19s\u001b[0m 341ms/step - accuracy: 0.5703 - loss: 7.0730 - val_accuracy: 0.5809 - val_loss: 6.9598 - learning_rate: 1.0000e-04\n",
            "Epoch 38/100\n",
            "\u001b[1m48/48\u001b[0m \u001b[32m━━━━━━━━━━━━━━━━━━━━\u001b[0m\u001b[37m\u001b[0m \u001b[1m19s\u001b[0m 342ms/step - accuracy: 0.5454 - loss: 6.9228 - val_accuracy: 0.5756 - val_loss: 6.8238 - learning_rate: 1.0000e-04\n",
            "Epoch 39/100\n",
            "\u001b[1m48/48\u001b[0m \u001b[32m━━━━━━━━━━━━━━━━━━━━\u001b[0m\u001b[37m\u001b[0m \u001b[1m19s\u001b[0m 341ms/step - accuracy: 0.5827 - loss: 6.7057 - val_accuracy: 0.5940 - val_loss: 6.5916 - learning_rate: 1.0000e-04\n",
            "Epoch 40/100\n",
            "\u001b[1m48/48\u001b[0m \u001b[32m━━━━━━━━━━━━━━━━━━━━\u001b[0m\u001b[37m\u001b[0m \u001b[1m19s\u001b[0m 340ms/step - accuracy: 0.6172 - loss: 6.4890 - val_accuracy: 0.6379 - val_loss: 6.3376 - learning_rate: 1.0000e-04\n",
            "Epoch 41/100\n",
            "\u001b[1m48/48\u001b[0m \u001b[32m━━━━━━━━━━━━━━━━━━━━\u001b[0m\u001b[37m\u001b[0m \u001b[1m19s\u001b[0m 341ms/step - accuracy: 0.6244 - loss: 6.2850 - val_accuracy: 0.5966 - val_loss: 6.2822 - learning_rate: 1.0000e-04\n",
            "Epoch 42/100\n",
            "\u001b[1m48/48\u001b[0m \u001b[32m━━━━━━━━━━━━━━━━━━━━\u001b[0m\u001b[37m\u001b[0m \u001b[1m19s\u001b[0m 345ms/step - accuracy: 0.6400 - loss: 6.0939 - val_accuracy: 0.6575 - val_loss: 5.9866 - learning_rate: 1.0000e-04\n",
            "Epoch 43/100\n",
            "\u001b[1m48/48\u001b[0m \u001b[32m━━━━━━━━━━━━━━━━━━━━\u001b[0m\u001b[37m\u001b[0m \u001b[1m19s\u001b[0m 337ms/step - accuracy: 0.6482 - loss: 5.9374 - val_accuracy: 0.6588 - val_loss: 5.8067 - learning_rate: 1.0000e-04\n",
            "Epoch 44/100\n",
            "\u001b[1m48/48\u001b[0m \u001b[32m━━━━━━━━━━━━━━━━━━━━\u001b[0m\u001b[37m\u001b[0m \u001b[1m19s\u001b[0m 345ms/step - accuracy: 0.6596 - loss: 5.7573 - val_accuracy: 0.6352 - val_loss: 5.6990 - learning_rate: 1.0000e-04\n",
            "Epoch 45/100\n",
            "\u001b[1m48/48\u001b[0m \u001b[32m━━━━━━━━━━━━━━━━━━━━\u001b[0m\u001b[37m\u001b[0m \u001b[1m19s\u001b[0m 343ms/step - accuracy: 0.6765 - loss: 5.5914 - val_accuracy: 0.6392 - val_loss: 5.5358 - learning_rate: 1.0000e-04\n",
            "Epoch 46/100\n",
            "\u001b[1m48/48\u001b[0m \u001b[32m━━━━━━━━━━━━━━━━━━━━\u001b[0m\u001b[37m\u001b[0m \u001b[1m19s\u001b[0m 343ms/step - accuracy: 0.6898 - loss: 5.4278 - val_accuracy: 0.6588 - val_loss: 5.4300 - learning_rate: 1.0000e-04\n",
            "Epoch 47/100\n",
            "\u001b[1m48/48\u001b[0m \u001b[32m━━━━━━━━━━━━━━━━━━━━\u001b[0m\u001b[37m\u001b[0m \u001b[1m19s\u001b[0m 343ms/step - accuracy: 0.7033 - loss: 5.2243 - val_accuracy: 0.7020 - val_loss: 5.1375 - learning_rate: 1.0000e-04\n",
            "Epoch 48/100\n",
            "\u001b[1m48/48\u001b[0m \u001b[32m━━━━━━━━━━━━━━━━━━━━\u001b[0m\u001b[37m\u001b[0m \u001b[1m19s\u001b[0m 340ms/step - accuracy: 0.7402 - loss: 5.0407 - val_accuracy: 0.6791 - val_loss: 5.1752 - learning_rate: 1.0000e-04\n",
            "Epoch 49/100\n",
            "\u001b[1m48/48\u001b[0m \u001b[32m━━━━━━━━━━━━━━━━━━━━\u001b[0m\u001b[37m\u001b[0m \u001b[1m19s\u001b[0m 344ms/step - accuracy: 0.7378 - loss: 4.9165 - val_accuracy: 0.7701 - val_loss: 4.7417 - learning_rate: 1.0000e-04\n",
            "Epoch 50/100\n",
            "\u001b[1m48/48\u001b[0m \u001b[32m━━━━━━━━━━━━━━━━━━━━\u001b[0m\u001b[37m\u001b[0m \u001b[1m19s\u001b[0m 342ms/step - accuracy: 0.7878 - loss: 4.6556 - val_accuracy: 0.6365 - val_loss: 5.1343 - learning_rate: 1.0000e-04\n",
            "Epoch 51/100\n",
            "\u001b[1m48/48\u001b[0m \u001b[32m━━━━━━━━━━━━━━━━━━━━\u001b[0m\u001b[37m\u001b[0m \u001b[1m19s\u001b[0m 345ms/step - accuracy: 0.7413 - loss: 4.5884 - val_accuracy: 0.7374 - val_loss: 4.5831 - learning_rate: 1.0000e-04\n",
            "Epoch 52/100\n",
            "\u001b[1m48/48\u001b[0m \u001b[32m━━━━━━━━━━━━━━━━━━━━\u001b[0m\u001b[37m\u001b[0m \u001b[1m19s\u001b[0m 343ms/step - accuracy: 0.7868 - loss: 4.4200 - val_accuracy: 0.7819 - val_loss: 4.3492 - learning_rate: 1.0000e-04\n",
            "Epoch 53/100\n",
            "\u001b[1m48/48\u001b[0m \u001b[32m━━━━━━━━━━━━━━━━━━━━\u001b[0m\u001b[37m\u001b[0m \u001b[1m19s\u001b[0m 348ms/step - accuracy: 0.8197 - loss: 4.2456 - val_accuracy: 0.8186 - val_loss: 4.1259 - learning_rate: 1.0000e-04\n",
            "Epoch 54/100\n",
            "\u001b[1m48/48\u001b[0m \u001b[32m━━━━━━━━━━━━━━━━━━━━\u001b[0m\u001b[37m\u001b[0m \u001b[1m19s\u001b[0m 342ms/step - accuracy: 0.8104 - loss: 4.1230 - val_accuracy: 0.7570 - val_loss: 4.1903 - learning_rate: 1.0000e-04\n",
            "Epoch 55/100\n",
            "\u001b[1m48/48\u001b[0m \u001b[32m━━━━━━━━━━━━━━━━━━━━\u001b[0m\u001b[37m\u001b[0m \u001b[1m19s\u001b[0m 344ms/step - accuracy: 0.8338 - loss: 3.9650 - val_accuracy: 0.8016 - val_loss: 3.9678 - learning_rate: 1.0000e-04\n",
            "Epoch 56/100\n",
            "\u001b[1m48/48\u001b[0m \u001b[32m━━━━━━━━━━━━━━━━━━━━\u001b[0m\u001b[37m\u001b[0m \u001b[1m19s\u001b[0m 345ms/step - accuracy: 0.8451 - loss: 3.8115 - val_accuracy: 0.8454 - val_loss: 3.7004 - learning_rate: 1.0000e-04\n",
            "Epoch 57/100\n",
            "\u001b[1m48/48\u001b[0m \u001b[32m━━━━━━━━━━━━━━━━━━━━\u001b[0m\u001b[37m\u001b[0m \u001b[1m19s\u001b[0m 343ms/step - accuracy: 0.8244 - loss: 3.7361 - val_accuracy: 0.8258 - val_loss: 3.6644 - learning_rate: 1.0000e-04\n",
            "Epoch 58/100\n",
            "\u001b[1m48/48\u001b[0m \u001b[32m━━━━━━━━━━━━━━━━━━━━\u001b[0m\u001b[37m\u001b[0m \u001b[1m19s\u001b[0m 339ms/step - accuracy: 0.8603 - loss: 3.5679 - val_accuracy: 0.7891 - val_loss: 3.7126 - learning_rate: 1.0000e-04\n",
            "Epoch 59/100\n",
            "\u001b[1m48/48\u001b[0m \u001b[32m━━━━━━━━━━━━━━━━━━━━\u001b[0m\u001b[37m\u001b[0m \u001b[1m19s\u001b[0m 343ms/step - accuracy: 0.8733 - loss: 3.4172 - val_accuracy: 0.8500 - val_loss: 3.3922 - learning_rate: 1.0000e-04\n",
            "Epoch 60/100\n",
            "\u001b[1m48/48\u001b[0m \u001b[32m━━━━━━━━━━━━━━━━━━━━\u001b[0m\u001b[37m\u001b[0m \u001b[1m19s\u001b[0m 344ms/step - accuracy: 0.8647 - loss: 3.3160 - val_accuracy: 0.8107 - val_loss: 3.3869 - learning_rate: 1.0000e-04\n",
            "Epoch 61/100\n",
            "\u001b[1m48/48\u001b[0m \u001b[32m━━━━━━━━━━━━━━━━━━━━\u001b[0m\u001b[37m\u001b[0m \u001b[1m19s\u001b[0m 345ms/step - accuracy: 0.8693 - loss: 3.2131 - val_accuracy: 0.8409 - val_loss: 3.2665 - learning_rate: 1.0000e-04\n",
            "Epoch 62/100\n",
            "\u001b[1m48/48\u001b[0m \u001b[32m━━━━━━━━━━━━━━━━━━━━\u001b[0m\u001b[37m\u001b[0m \u001b[1m19s\u001b[0m 345ms/step - accuracy: 0.8991 - loss: 3.0131 - val_accuracy: 0.7904 - val_loss: 3.3645 - learning_rate: 1.0000e-04\n",
            "Epoch 63/100\n",
            "\u001b[1m48/48\u001b[0m \u001b[32m━━━━━━━━━━━━━━━━━━━━\u001b[0m\u001b[37m\u001b[0m \u001b[1m19s\u001b[0m 341ms/step - accuracy: 0.9051 - loss: 2.9027 - val_accuracy: 0.8553 - val_loss: 3.0054 - learning_rate: 1.0000e-04\n",
            "Epoch 64/100\n",
            "\u001b[1m48/48\u001b[0m \u001b[32m━━━━━━━━━━━━━━━━━━━━\u001b[0m\u001b[37m\u001b[0m \u001b[1m19s\u001b[0m 344ms/step - accuracy: 0.9183 - loss: 2.8195 - val_accuracy: 0.8887 - val_loss: 2.7859 - learning_rate: 1.0000e-04\n",
            "Epoch 65/100\n",
            "\u001b[1m48/48\u001b[0m \u001b[32m━━━━━━━━━━━━━━━━━━━━\u001b[0m\u001b[37m\u001b[0m \u001b[1m19s\u001b[0m 340ms/step - accuracy: 0.9132 - loss: 2.7201 - val_accuracy: 0.8042 - val_loss: 2.9637 - learning_rate: 1.0000e-04\n",
            "Epoch 66/100\n",
            "\u001b[1m48/48\u001b[0m \u001b[32m━━━━━━━━━━━━━━━━━━━━\u001b[0m\u001b[37m\u001b[0m \u001b[1m19s\u001b[0m 345ms/step - accuracy: 0.9121 - loss: 2.6228 - val_accuracy: 0.8520 - val_loss: 2.7419 - learning_rate: 1.0000e-04\n",
            "Epoch 67/100\n",
            "\u001b[1m48/48\u001b[0m \u001b[32m━━━━━━━━━━━━━━━━━━━━\u001b[0m\u001b[37m\u001b[0m \u001b[1m19s\u001b[0m 345ms/step - accuracy: 0.9195 - loss: 2.5161 - val_accuracy: 0.8356 - val_loss: 2.7574 - learning_rate: 1.0000e-04\n",
            "Epoch 68/100\n",
            "\u001b[1m48/48\u001b[0m \u001b[32m━━━━━━━━━━━━━━━━━━━━\u001b[0m\u001b[37m\u001b[0m \u001b[1m19s\u001b[0m 350ms/step - accuracy: 0.9252 - loss: 2.4143 - val_accuracy: 0.8710 - val_loss: 2.5396 - learning_rate: 1.0000e-04\n",
            "Epoch 69/100\n",
            "\u001b[1m48/48\u001b[0m \u001b[32m━━━━━━━━━━━━━━━━━━━━\u001b[0m\u001b[37m\u001b[0m \u001b[1m19s\u001b[0m 341ms/step - accuracy: 0.9371 - loss: 2.2943 - val_accuracy: 0.8324 - val_loss: 2.5577 - learning_rate: 1.0000e-04\n",
            "Epoch 70/100\n",
            "\u001b[1m48/48\u001b[0m \u001b[32m━━━━━━━━━━━━━━━━━━━━\u001b[0m\u001b[37m\u001b[0m \u001b[1m19s\u001b[0m 341ms/step - accuracy: 0.9333 - loss: 2.2331 - val_accuracy: 0.8415 - val_loss: 2.4558 - learning_rate: 1.0000e-04\n",
            "Epoch 71/100\n",
            "\u001b[1m48/48\u001b[0m \u001b[32m━━━━━━━━━━━━━━━━━━━━\u001b[0m\u001b[37m\u001b[0m \u001b[1m19s\u001b[0m 342ms/step - accuracy: 0.9527 - loss: 2.1027 - val_accuracy: 0.8140 - val_loss: 2.4416 - learning_rate: 1.0000e-04\n",
            "Epoch 72/100\n",
            "\u001b[1m48/48\u001b[0m \u001b[32m━━━━━━━━━━━━━━━━━━━━\u001b[0m\u001b[37m\u001b[0m \u001b[1m19s\u001b[0m 347ms/step - accuracy: 0.9432 - loss: 2.0247 - val_accuracy: 0.8474 - val_loss: 2.2491 - learning_rate: 1.0000e-04\n",
            "Epoch 73/100\n",
            "\u001b[1m48/48\u001b[0m \u001b[32m━━━━━━━━━━━━━━━━━━━━\u001b[0m\u001b[37m\u001b[0m \u001b[1m19s\u001b[0m 340ms/step - accuracy: 0.9241 - loss: 2.0107 - val_accuracy: 0.8834 - val_loss: 2.0747 - learning_rate: 1.0000e-04\n",
            "Epoch 74/100\n",
            "\u001b[1m48/48\u001b[0m \u001b[32m━━━━━━━━━━━━━━━━━━━━\u001b[0m\u001b[37m\u001b[0m \u001b[1m19s\u001b[0m 346ms/step - accuracy: 0.9519 - loss: 1.8786 - val_accuracy: 0.8847 - val_loss: 2.0004 - learning_rate: 1.0000e-04\n",
            "Epoch 75/100\n",
            "\u001b[1m48/48\u001b[0m \u001b[32m━━━━━━━━━━━━━━━━━━━━\u001b[0m\u001b[37m\u001b[0m \u001b[1m19s\u001b[0m 341ms/step - accuracy: 0.9382 - loss: 1.8306 - val_accuracy: 0.8454 - val_loss: 2.1076 - learning_rate: 1.0000e-04\n",
            "Epoch 76/100\n",
            "\u001b[1m48/48\u001b[0m \u001b[32m━━━━━━━━━━━━━━━━━━━━\u001b[0m\u001b[37m\u001b[0m \u001b[1m19s\u001b[0m 345ms/step - accuracy: 0.9519 - loss: 1.7141 - val_accuracy: 0.9339 - val_loss: 1.7025 - learning_rate: 1.0000e-04\n",
            "Epoch 77/100\n",
            "\u001b[1m48/48\u001b[0m \u001b[32m━━━━━━━━━━━━━━━━━━━━\u001b[0m\u001b[37m\u001b[0m \u001b[1m19s\u001b[0m 344ms/step - accuracy: 0.9381 - loss: 1.7092 - val_accuracy: 0.9293 - val_loss: 1.6822 - learning_rate: 1.0000e-04\n",
            "Epoch 78/100\n",
            "\u001b[1m48/48\u001b[0m \u001b[32m━━━━━━━━━━━━━━━━━━━━\u001b[0m\u001b[37m\u001b[0m \u001b[1m19s\u001b[0m 346ms/step - accuracy: 0.9505 - loss: 1.5906 - val_accuracy: 0.9378 - val_loss: 1.6112 - learning_rate: 1.0000e-04\n",
            "Epoch 79/100\n",
            "\u001b[1m48/48\u001b[0m \u001b[32m━━━━━━━━━━━━━━━━━━━━\u001b[0m\u001b[37m\u001b[0m \u001b[1m19s\u001b[0m 343ms/step - accuracy: 0.9602 - loss: 1.5213 - val_accuracy: 0.8330 - val_loss: 2.0131 - learning_rate: 1.0000e-04\n",
            "Epoch 80/100\n",
            "\u001b[1m48/48\u001b[0m \u001b[32m━━━━━━━━━━━━━━━━━━━━\u001b[0m\u001b[37m\u001b[0m \u001b[1m19s\u001b[0m 341ms/step - accuracy: 0.9537 - loss: 1.4875 - val_accuracy: 0.8389 - val_loss: 1.8060 - learning_rate: 1.0000e-04\n",
            "Epoch 81/100\n",
            "\u001b[1m48/48\u001b[0m \u001b[32m━━━━━━━━━━━━━━━━━━━━\u001b[0m\u001b[37m\u001b[0m \u001b[1m19s\u001b[0m 342ms/step - accuracy: 0.9461 - loss: 1.4095 - val_accuracy: 0.9627 - val_loss: 1.3254 - learning_rate: 1.0000e-04\n",
            "Epoch 82/100\n",
            "\u001b[1m48/48\u001b[0m \u001b[32m━━━━━━━━━━━━━━━━━━━━\u001b[0m\u001b[37m\u001b[0m \u001b[1m19s\u001b[0m 339ms/step - accuracy: 0.9556 - loss: 1.3622 - val_accuracy: 0.9574 - val_loss: 1.3011 - learning_rate: 1.0000e-04\n",
            "Epoch 83/100\n",
            "\u001b[1m48/48\u001b[0m \u001b[32m━━━━━━━━━━━━━━━━━━━━\u001b[0m\u001b[37m\u001b[0m \u001b[1m19s\u001b[0m 340ms/step - accuracy: 0.9558 - loss: 1.2779 - val_accuracy: 0.9712 - val_loss: 1.2100 - learning_rate: 1.0000e-04\n",
            "Epoch 84/100\n",
            "\u001b[1m48/48\u001b[0m \u001b[32m━━━━━━━━━━━━━━━━━━━━\u001b[0m\u001b[37m\u001b[0m \u001b[1m19s\u001b[0m 346ms/step - accuracy: 0.9587 - loss: 1.2450 - val_accuracy: 0.9476 - val_loss: 1.2486 - learning_rate: 1.0000e-04\n",
            "Epoch 85/100\n",
            "\u001b[1m48/48\u001b[0m \u001b[32m━━━━━━━━━━━━━━━━━━━━\u001b[0m\u001b[37m\u001b[0m \u001b[1m19s\u001b[0m 343ms/step - accuracy: 0.9516 - loss: 1.2063 - val_accuracy: 0.9542 - val_loss: 1.1610 - learning_rate: 1.0000e-04\n",
            "Epoch 86/100\n",
            "\u001b[1m48/48\u001b[0m \u001b[32m━━━━━━━━━━━━━━━━━━━━\u001b[0m\u001b[37m\u001b[0m \u001b[1m19s\u001b[0m 343ms/step - accuracy: 0.9620 - loss: 1.1285 - val_accuracy: 0.9679 - val_loss: 1.0749 - learning_rate: 1.0000e-04\n",
            "Epoch 87/100\n",
            "\u001b[1m48/48\u001b[0m \u001b[32m━━━━━━━━━━━━━━━━━━━━\u001b[0m\u001b[37m\u001b[0m \u001b[1m19s\u001b[0m 343ms/step - accuracy: 0.9684 - loss: 1.0811 - val_accuracy: 0.9764 - val_loss: 1.0139 - learning_rate: 1.0000e-04\n",
            "Epoch 88/100\n",
            "\u001b[1m48/48\u001b[0m \u001b[32m━━━━━━━━━━━━━━━━━━━━\u001b[0m\u001b[37m\u001b[0m \u001b[1m19s\u001b[0m 346ms/step - accuracy: 0.9645 - loss: 1.0516 - val_accuracy: 0.9699 - val_loss: 0.9852 - learning_rate: 1.0000e-04\n",
            "Epoch 89/100\n",
            "\u001b[1m48/48\u001b[0m \u001b[32m━━━━━━━━━━━━━━━━━━━━\u001b[0m\u001b[37m\u001b[0m \u001b[1m19s\u001b[0m 341ms/step - accuracy: 0.9570 - loss: 1.0176 - val_accuracy: 0.9528 - val_loss: 1.0039 - learning_rate: 1.0000e-04\n",
            "Epoch 90/100\n",
            "\u001b[1m48/48\u001b[0m \u001b[32m━━━━━━━━━━━━━━━━━━━━\u001b[0m\u001b[37m\u001b[0m \u001b[1m19s\u001b[0m 341ms/step - accuracy: 0.9687 - loss: 0.9510 - val_accuracy: 0.9699 - val_loss: 0.9038 - learning_rate: 1.0000e-04\n",
            "Epoch 91/100\n",
            "\u001b[1m48/48\u001b[0m \u001b[32m━━━━━━━━━━━━━━━━━━━━\u001b[0m\u001b[37m\u001b[0m \u001b[1m19s\u001b[0m 340ms/step - accuracy: 0.9716 - loss: 0.9031 - val_accuracy: 0.9096 - val_loss: 1.0970 - learning_rate: 1.0000e-04\n",
            "Epoch 92/100\n",
            "\u001b[1m48/48\u001b[0m \u001b[32m━━━━━━━━━━━━━━━━━━━━\u001b[0m\u001b[37m\u001b[0m \u001b[1m19s\u001b[0m 342ms/step - accuracy: 0.9684 - loss: 0.8854 - val_accuracy: 0.9653 - val_loss: 0.8406 - learning_rate: 1.0000e-04\n",
            "Epoch 93/100\n",
            "\u001b[1m48/48\u001b[0m \u001b[32m━━━━━━━━━━━━━━━━━━━━\u001b[0m\u001b[37m\u001b[0m \u001b[1m19s\u001b[0m 345ms/step - accuracy: 0.9701 - loss: 0.8326 - val_accuracy: 0.9751 - val_loss: 0.7905 - learning_rate: 1.0000e-04\n",
            "Epoch 94/100\n",
            "\u001b[1m48/48\u001b[0m \u001b[32m━━━━━━━━━━━━━━━━━━━━\u001b[0m\u001b[37m\u001b[0m \u001b[1m19s\u001b[0m 344ms/step - accuracy: 0.9743 - loss: 0.7944 - val_accuracy: 0.9509 - val_loss: 0.8166 - learning_rate: 1.0000e-04\n",
            "Epoch 95/100\n",
            "\u001b[1m48/48\u001b[0m \u001b[32m━━━━━━━━━━━━━━━━━━━━\u001b[0m\u001b[37m\u001b[0m \u001b[1m19s\u001b[0m 344ms/step - accuracy: 0.9795 - loss: 0.7425 - val_accuracy: 0.9790 - val_loss: 0.7070 - learning_rate: 1.0000e-04\n",
            "Epoch 96/100\n",
            "\u001b[1m48/48\u001b[0m \u001b[32m━━━━━━━━━━━━━━━━━━━━\u001b[0m\u001b[37m\u001b[0m \u001b[1m19s\u001b[0m 342ms/step - accuracy: 0.9627 - loss: 0.7724 - val_accuracy: 0.9692 - val_loss: 0.7088 - learning_rate: 1.0000e-04\n",
            "Epoch 97/100\n",
            "\u001b[1m48/48\u001b[0m \u001b[32m━━━━━━━━━━━━━━━━━━━━\u001b[0m\u001b[37m\u001b[0m \u001b[1m19s\u001b[0m 341ms/step - accuracy: 0.9728 - loss: 0.6922 - val_accuracy: 0.9555 - val_loss: 0.7224 - learning_rate: 1.0000e-04\n",
            "Epoch 98/100\n",
            "\u001b[1m48/48\u001b[0m \u001b[32m━━━━━━━━━━━━━━━━━━━━\u001b[0m\u001b[37m\u001b[0m \u001b[1m19s\u001b[0m 343ms/step - accuracy: 0.9598 - loss: 0.6860 - val_accuracy: 0.9188 - val_loss: 0.8535 - learning_rate: 1.0000e-04\n",
            "Epoch 99/100\n",
            "\u001b[1m48/48\u001b[0m \u001b[32m━━━━━━━━━━━━━━━━━━━━\u001b[0m\u001b[37m\u001b[0m \u001b[1m19s\u001b[0m 339ms/step - accuracy: 0.9761 - loss: 0.6277 - val_accuracy: 0.9273 - val_loss: 0.7731 - learning_rate: 1.0000e-04\n",
            "Epoch 100/100\n",
            "\u001b[1m48/48\u001b[0m \u001b[32m━━━━━━━━━━━━━━━━━━━━\u001b[0m\u001b[37m\u001b[0m \u001b[1m19s\u001b[0m 338ms/step - accuracy: 0.9774 - loss: 0.6048 - val_accuracy: 0.9758 - val_loss: 0.5861 - learning_rate: 1.0000e-04\n"
          ]
        }
      ],
      "source": [
        "# Fit the model\n",
        "history = model.fit(\n",
        "    train_datagen.flow(train_images, train_labels_categorical, batch_size=BATCH_SIZE),\n",
        "    epochs=EPOCHS,\n",
        "    validation_data=test_datagen.flow(test_images, test_labels_categorical, batch_size=BATCH_SIZE),\n",
        "    callbacks=[reduce_lr, early_stopping],\n",
        "    class_weight=class_weight_dict\n",
        ")"
      ]
    },
    {
      "cell_type": "code",
      "execution_count": 24,
      "metadata": {
        "id": "TsTzr-xVSx5v",
        "colab": {
          "base_uri": "https://localhost:8080/",
          "height": 410
        },
        "outputId": "a4d4d122-42ab-462e-c826-1e0a7caac9d3"
      },
      "outputs": [
        {
          "output_type": "display_data",
          "data": {
            "text/plain": [
              "<Figure size 1200x400 with 2 Axes>"
            ],
            "image/png": "[encoded data removed]"
          },
          "metadata": {}
        }
      ],
      "source": [
        "# Plot accuracy and loss\n",
        "plt.figure(figsize=(12, 4))\n",
        "plt.subplot(1, 2, 1)\n",
        "plt.plot(history.history['accuracy'], label='Train')\n",
        "plt.plot(history.history['val_accuracy'], label='Validation')\n",
        "plt.title('Model accuracy')\n",
        "plt.ylabel('Accuracy')\n",
        "plt.xlabel('Epoch')\n",
        "plt.legend(loc='upper left')\n",
        "\n",
        "plt.subplot(1, 2, 2)\n",
        "plt.plot(history.history['loss'], label='Train')\n",
        "plt.plot(history.history['val_loss'], label='Validation')\n",
        "plt.title('Model loss')\n",
        "plt.ylabel('Loss')\n",
        "plt.xlabel('Epoch')\n",
        "plt.legend(loc='upper left')\n",
        "\n",
        "plt.show()\n"
      ]
    },
    {
      "cell_type": "code",
      "execution_count": 25,
      "metadata": {
        "id": "_amw5lQaS0Nz",
        "colab": {
          "base_uri": "https://localhost:8080/",
          "height": 944
        },
        "outputId": "ed3b097f-96cb-4bb7-9e9d-733cdb673799"
      },
      "outputs": [
        {
          "output_type": "stream",
          "name": "stdout",
          "text": [
            "\u001b[1m48/48\u001b[0m \u001b[32m━━━━━━━━━━━━━━━━━━━━\u001b[0m\u001b[37m\u001b[0m \u001b[1m6s\u001b[0m 74ms/step\n",
            "              precision    recall  f1-score   support\n",
            "\n",
            "     Aitinyo       1.00      0.94      0.97       374\n",
            "     Ayamaru       0.95      0.98      0.97       311\n",
            "      Kokoda       1.00      0.99      1.00       302\n",
            "         Moi       0.96      0.98      0.97       301\n",
            "       Tehit       0.96      1.00      0.98       239\n",
            "\n",
            "    accuracy                           0.98      1527\n",
            "   macro avg       0.97      0.98      0.98      1527\n",
            "weighted avg       0.98      0.98      0.98      1527\n",
            "\n"
          ]
        },
        {
          "output_type": "display_data",
          "data": {
            "text/plain": [
              "<Figure size 1000x800 with 2 Axes>"
            ],
            "image/png": "[encoded data removed]"
          },
          "metadata": {}
        }
      ],
      "source": [
        "# Evaluate model\n",
        "predictions = model.predict(test_images)\n",
        "predicted_classes = np.argmax(predictions, axis=1)\n",
        "\n",
        "# Classification report and confusion matrix\n",
        "print(classification_report(test_labels_encoded, predicted_classes, target_names=encoder.classes_))\n",
        "cm = confusion_matrix(test_labels_encoded, predicted_classes)\n",
        "plt.figure(figsize=(10, 8))\n",
        "sns.heatmap(cm, annot=True, fmt='d', cmap='Blues', xticklabels=encoder.classes_, yticklabels=encoder.classes_)\n",
        "plt.ylabel('Actual')\n",
        "plt.xlabel('Predicted')\n",
        "plt.title('Confusion Matrix')\n",
        "plt.show()"
      ]
    }
  ],
  "metadata": {
    "colab": {
      "provenance": [],
      "gpuType": "T4",
      "machine_shape": "hm",
      "authorship_tag": "ABX9TyNjn0q27cN3PKIhlB9CDd8v",
      "include_colab_link": true
    },
    "kernelspec": {
      "display_name": "Python 3",
      "name": "python3"
    },
    "language_info": {
      "name": "python"
    },
    "accelerator": "GPU"
  },
  "nbformat": 4,
  "nbformat_minor": 0
}