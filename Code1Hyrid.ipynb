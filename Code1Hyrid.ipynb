{
  "nbformat": 4,
  "nbformat_minor": 0,
  "metadata": {
    "colab": {
      "provenance": [],
      "authorship_tag": "ABX9TyMVYsv4S86MW7V082W37RAK",
      "include_colab_link": true
    },
    "kernelspec": {
      "name": "python3",
      "display_name": "Python 3"
    },
    "language_info": {
      "name": "python"
    }
  },
  "cells": [
    {
      "cell_type": "markdown",
      "metadata": {
        "id": "view-in-github",
        "colab_type": "text"
      },
      "source": [
        "<a href=\"https://colab.research.google.com/github/pacesatuinineh/Gaussian-Blur/blob/main/Code1Hyrid.ipynb\" target=\"_parent\"><img src=\"https://colab.research.google.com/assets/colab-badge.svg\" alt=\"Open In Colab\"/></a>"
      ]
    },
    {
      "cell_type": "code",
      "source": [
        "import cv2\n",
        "import numpy as np\n",
        "import pandas as pd\n",
        "import os\n",
        "from sklearn.ensemble import RandomForestClassifier\n",
        "from sklearn.metrics import classification_report, confusion_matrix\n",
        "from sklearn.model_selection import train_test_split\n",
        "from sklearn.preprocessing import LabelEncoder\n",
        "from google.colab import drive\n",
        "import matplotlib.pyplot as plt"
      ],
      "metadata": {
        "id": "iVYf4kbuBwGn"
      },
      "execution_count": 1,
      "outputs": []
    },
    {
      "cell_type": "code",
      "source": [
        "# Mount Google Drive\n",
        "drive.mount('/content/drive')"
      ],
      "metadata": {
        "colab": {
          "base_uri": "https://localhost:8080/"
        },
        "id": "NFTVBCSNB1a3",
        "outputId": "d6511db1-83eb-4a01-bbb5-e735c87f11ba"
      },
      "execution_count": 2,
      "outputs": [
        {
          "output_type": "stream",
          "name": "stdout",
          "text": [
            "Mounted at /content/drive\n"
          ]
        }
      ]
    },
    {
      "cell_type": "code",
      "source": [
        "# Set dataset path\n",
        "DATASET_PATH = '/content/drive/MyDrive/modifdataset'  # Replace with your Google Drive dataset path"
      ],
      "metadata": {
        "id": "OG7TaoALB4sS"
      },
      "execution_count": 3,
      "outputs": []
    },
    {
      "cell_type": "code",
      "source": [
        "# 1. Load Dataset\n",
        "def load_dataset(dataset_path):\n",
        "    data = []\n",
        "    labels = []\n",
        "    for class_dir in os.listdir(dataset_path):  # Assume subdirectories are class names\n",
        "        class_path = os.path.join(dataset_path, class_dir)\n",
        "        if os.path.isdir(class_path):\n",
        "            for image_file in os.listdir(class_path):\n",
        "                image_path = os.path.join(class_path, image_file)\n",
        "                image = cv2.imread(image_path)\n",
        "                if image is not None:\n",
        "                    data.append(image)\n",
        "                    labels.append(class_dir)\n",
        "    return np.array(data), np.array(labels)"
      ],
      "metadata": {
        "id": "VulwF5vHB68M"
      },
      "execution_count": 4,
      "outputs": []
    },
    {
      "cell_type": "code",
      "source": [
        "print(\"Loading dataset...\")\n",
        "images, labels = load_dataset(DATASET_PATH)\n",
        "print(f\"Dataset loaded: {len(images)} images and {len(labels)} labels.\")"
      ],
      "metadata": {
        "colab": {
          "base_uri": "https://localhost:8080/"
        },
        "id": "31amCfcmB93y",
        "outputId": "84a01de3-5544-48a9-fce5-a7acbdf655dd"
      },
      "execution_count": 5,
      "outputs": [
        {
          "output_type": "stream",
          "name": "stdout",
          "text": [
            "Loading dataset...\n",
            "Dataset loaded: 1527 images and 1527 labels.\n"
          ]
        }
      ]
    },
    {
      "cell_type": "code",
      "source": [
        "# Encode labels\n",
        "label_encoder = LabelEncoder()\n",
        "encoded_labels = label_encoder.fit_transform(labels)"
      ],
      "metadata": {
        "id": "8JttNaqjCAOo"
      },
      "execution_count": 6,
      "outputs": []
    },
    {
      "cell_type": "code",
      "source": [
        "# 2. Preprocessing: Create Skin Mask\n",
        "def preprocess_images(images):\n",
        "    processed_data = []\n",
        "    for image in images:\n",
        "        # Convert to HSV\n",
        "        hsv_image = cv2.cvtColor(image, cv2.COLOR_BGR2HSV)\n",
        "\n",
        "        # Rule-Based Mask\n",
        "        rule_based_mask = cv2.inRange(hsv_image, (0, 48, 80), (20, 255, 255))\n",
        "\n",
        "        # Gaussian Skin Detection (for simplicity, we'll simulate with rule-based for now)\n",
        "        gaussian_mask = cv2.GaussianBlur(rule_based_mask, (5, 5), 0)\n",
        "\n",
        "        # Combine masks\n",
        "        combined_mask = cv2.bitwise_and(rule_based_mask, gaussian_mask)\n",
        "\n",
        "        # Flatten mask and append as features\n",
        "        processed_data.append(combined_mask.flatten())\n",
        "    return np.array(processed_data)"
      ],
      "metadata": {
        "id": "YRUIRQKYCEVD"
      },
      "execution_count": 7,
      "outputs": []
    },
    {
      "cell_type": "code",
      "source": [
        "print(\"Preprocessing images...\")\n",
        "processed_features = preprocess_images(images)\n",
        "print(\"Preprocessing complete.\")"
      ],
      "metadata": {
        "colab": {
          "base_uri": "https://localhost:8080/"
        },
        "id": "la3B9jJtCI_L",
        "outputId": "c2f85a04-9aa3-4a55-e245-bcf468903d3e"
      },
      "execution_count": 8,
      "outputs": [
        {
          "output_type": "stream",
          "name": "stdout",
          "text": [
            "Preprocessing images...\n",
            "Preprocessing complete.\n"
          ]
        }
      ]
    },
    {
      "cell_type": "code",
      "source": [
        "# 3. Split Data\n",
        "X_train, X_test, y_train, y_test = train_test_split(processed_features, encoded_labels, test_size=0.2, random_state=42)"
      ],
      "metadata": {
        "id": "bC976GzuCL2P"
      },
      "execution_count": 9,
      "outputs": []
    },
    {
      "cell_type": "code",
      "source": [
        "# 4. Train Model\n",
        "print(\"Training model...\")\n",
        "clf = RandomForestClassifier(n_estimators=100, random_state=42)\n",
        "clf.fit(X_train, y_train)\n",
        "print(\"Model training complete.\")"
      ],
      "metadata": {
        "colab": {
          "base_uri": "https://localhost:8080/"
        },
        "id": "ejtZnoiQCN5H",
        "outputId": "6c221825-7e07-4d62-e738-fbc3b84f3e4f"
      },
      "execution_count": 10,
      "outputs": [
        {
          "output_type": "stream",
          "name": "stdout",
          "text": [
            "Training model...\n",
            "Model training complete.\n"
          ]
        }
      ]
    },
    {
      "cell_type": "code",
      "source": [
        "# 5. Evaluate Model\n",
        "y_pred = clf.predict(X_test)"
      ],
      "metadata": {
        "id": "Yeu6A2GtCRMc"
      },
      "execution_count": 11,
      "outputs": []
    },
    {
      "cell_type": "code",
      "source": [
        "print(\"Classification Report:\")\n",
        "print(classification_report(y_test, y_pred, target_names=label_encoder.classes_))"
      ],
      "metadata": {
        "colab": {
          "base_uri": "https://localhost:8080/"
        },
        "id": "1921I97zCU6C",
        "outputId": "698f2ed1-39ed-4752-a2cd-f166fe7850a3"
      },
      "execution_count": 12,
      "outputs": [
        {
          "output_type": "stream",
          "name": "stdout",
          "text": [
            "Classification Report:\n",
            "              precision    recall  f1-score   support\n",
            "\n",
            "     Aitinyo       0.29      0.36      0.32        80\n",
            "     Ayamaru       0.21      0.27      0.24        52\n",
            "      Kokoda       0.39      0.42      0.40        64\n",
            "         Moi       0.28      0.28      0.28        53\n",
            "       Tehit       0.40      0.11      0.17        57\n",
            "\n",
            "    accuracy                           0.30       306\n",
            "   macro avg       0.31      0.29      0.28       306\n",
            "weighted avg       0.31      0.30      0.29       306\n",
            "\n"
          ]
        }
      ]
    },
    {
      "cell_type": "code",
      "source": [
        "print(\"Confusion Matrix:\")\n",
        "conf_matrix = confusion_matrix(y_test, y_pred)\n",
        "print(conf_matrix)"
      ],
      "metadata": {
        "colab": {
          "base_uri": "https://localhost:8080/"
        },
        "id": "1u2YzLgUCZR2",
        "outputId": "77dab699-3467-470f-d7e9-a9d48da06eaf"
      },
      "execution_count": 13,
      "outputs": [
        {
          "output_type": "stream",
          "name": "stdout",
          "text": [
            "Confusion Matrix:\n",
            "[[29 21 16 11  3]\n",
            " [24 14  6  7  1]\n",
            " [13 11 27 12  1]\n",
            " [17 11  6 15  4]\n",
            " [18  9 15  9  6]]\n"
          ]
        }
      ]
    },
    {
      "cell_type": "code",
      "source": [
        "# 6. Plot Confusion Matrix\n",
        "def plot_confusion_matrix(cm, classes, title='Confusion Matrix'):\n",
        "    plt.figure(figsize=(8, 6))\n",
        "    plt.imshow(cm, interpolation='nearest', cmap=plt.cm.Blues)\n",
        "    plt.title(title)\n",
        "    plt.colorbar()\n",
        "    tick_marks = np.arange(len(classes))\n",
        "    plt.xticks(tick_marks, classes, rotation=45)\n",
        "    plt.yticks(tick_marks, classes)\n",
        "\n",
        "    # Normalize the confusion matrix\n",
        "    cm = cm.astype('float') / cm.sum(axis=1)[:, np.newaxis]\n",
        "\n",
        "    thresh = cm.max() / 2.\n",
        "    for i, j in np.ndindex(cm.shape):\n",
        "        plt.text(j, i, format(cm[i, j], '.2f'),\n",
        "                 horizontalalignment=\"center\",\n",
        "                 color=\"white\" if cm[i, j] > thresh else \"black\")\n",
        "\n",
        "    plt.ylabel('True Label')\n",
        "    plt.xlabel('Predicted Label')\n",
        "    plt.tight_layout()\n",
        "\n",
        "plot_confusion_matrix(conf_matrix, classes=label_encoder.classes_)\n",
        "plt.show()"
      ],
      "metadata": {
        "colab": {
          "base_uri": "https://localhost:8080/",
          "height": 627
        },
        "id": "Bx2UV_4XCdqW",
        "outputId": "a10b30e5-f66e-4a97-e5e3-7334f48310cb"
      },
      "execution_count": 14,
      "outputs": [
        {
          "output_type": "display_data",
          "data": {
            "text/plain": [
              "<Figure size 800x600 with 2 Axes>"
            ],
            "image/png": "[encoded data removed]"
          },
          "metadata": {}
        }
      ]
    },
    {
      "cell_type": "code",
      "execution_count": null,
      "metadata": {
        "id": "BxeSu9x5Bobe"
      },
      "outputs": [],
      "source": [
        "\n"
      ]
    }
  ]
}