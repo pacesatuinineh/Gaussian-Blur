{
  "cells": [
    {
      "cell_type": "markdown",
      "metadata": {
        "id": "view-in-github",
        "colab_type": "text"
      },
      "source": [
        "<a href=\"https://colab.research.google.com/github/pacesatuinineh/Gaussian-Blur/blob/main/Komb3inception.ipynb\" target=\"_parent\"><img src=\"https://colab.research.google.com/assets/colab-badge.svg\" alt=\"Open In Colab\"/></a>"
      ]
    },
    {
      "cell_type": "code",
      "source": [
        "#!pip install efficientnet==0.0.3\n",
        "!pip install PyWavelets"
      ],
      "metadata": {
        "id": "BYUAJQ01aozs",
        "colab": {
          "base_uri": "https://localhost:8080/"
        },
        "outputId": "a820fa8e-5d44-4b48-d407-f2de668184d0"
      },
      "execution_count": 1,
      "outputs": [
        {
          "output_type": "stream",
          "name": "stdout",
          "text": [
            "Collecting PyWavelets\n",
            "  Downloading pywavelets-1.8.0-cp310-cp310-manylinux_2_17_x86_64.manylinux2014_x86_64.whl.metadata (9.0 kB)\n",
            "Requirement already satisfied: numpy<3,>=1.23 in /usr/local/lib/python3.10/dist-packages (from PyWavelets) (1.26.4)\n",
            "Downloading pywavelets-1.8.0-cp310-cp310-manylinux_2_17_x86_64.manylinux2014_x86_64.whl (4.5 MB)\n",
            "\u001b[?25l   \u001b[90m━━━━━━━━━━━━━━━━━━━━━━━━━━━━━━━━━━━━━━━━\u001b[0m \u001b[32m0.0/4.5 MB\u001b[0m \u001b[31m?\u001b[0m eta \u001b[36m-:--:--\u001b[0m\r\u001b[2K   \u001b[91m━━━━━━━━━━━━━━━━━━━━━━━━━━━━━━━━━━━━━━━\u001b[0m\u001b[91m╸\u001b[0m \u001b[32m4.5/4.5 MB\u001b[0m \u001b[31m167.8 MB/s\u001b[0m eta \u001b[36m0:00:01\u001b[0m\r\u001b[2K   \u001b[90m━━━━━━━━━━━━━━━━━━━━━━━━━━━━━━━━━━━━━━━━\u001b[0m \u001b[32m4.5/4.5 MB\u001b[0m \u001b[31m88.4 MB/s\u001b[0m eta \u001b[36m0:00:00\u001b[0m\n",
            "\u001b[?25hInstalling collected packages: PyWavelets\n",
            "Successfully installed PyWavelets-1.8.0\n"
          ]
        }
      ]
    },
    {
      "cell_type": "code",
      "execution_count": 2,
      "metadata": {
        "id": "O1uQFkh1OR73"
      },
      "outputs": [],
      "source": [
        "import cv2\n",
        "import numpy as np\n",
        "import os\n",
        "import pandas as pd\n",
        "from skimage.feature import hog\n",
        "from skimage.color import rgb2gray\n",
        "from sklearn.preprocessing import LabelEncoder\n",
        "from sklearn.metrics import accuracy_score, confusion_matrix, classification_report\n",
        "import matplotlib.pyplot as plt\n",
        "import seaborn as sns\n",
        "import tensorflow as tf\n",
        "from tensorflow.keras.models import Model\n",
        "from tensorflow.keras.layers import Dense, Dropout, GlobalAveragePooling2D, BatchNormalization, Input\n",
        "from tensorflow.keras.preprocessing.image import ImageDataGenerator\n",
        "#from tensorflow.keras.applications import ResNet50\n",
        "from tensorflow.keras.utils import to_categorical\n",
        "from sklearn.decomposition import PCA\n",
        "from sklearn.utils.class_weight import compute_class_weight\n",
        "#from tensorflow.keras.applications import EfficientNetB0\n",
        "#from tensorflow.keras.applications import VGG16\n",
        "#from tensorflow.keras.applications import MobileNetV2\n",
        "from tensorflow.keras.applications import InceptionV3\n",
        "import matplotlib.pyplot as plt\n",
        "import numpy as np\n",
        "import pywt\n",
        "\n",
        "import random\n",
        "import matplotlib.pyplot as plt\n",
        "import numpy as np\n"
      ]
    },
    {
      "cell_type": "code",
      "execution_count": 3,
      "metadata": {
        "id": "kdVXkRGgR6Nt",
        "colab": {
          "base_uri": "https://localhost:8080/"
        },
        "outputId": "1bef03b1-04e1-4876-842f-7e28f46b70ab"
      },
      "outputs": [
        {
          "output_type": "stream",
          "name": "stdout",
          "text": [
            "Mounted at /content/drive\n"
          ]
        }
      ],
      "source": [
        "from google.colab import drive\n",
        "drive.mount('/content/drive')\n",
        "\n"
      ]
    },
    {
      "cell_type": "code",
      "source": [
        "# Paths\n",
        "data_path = \"/content/drive/MyDrive/modifdataset\"  # Adjust the path to where 'papua-1' and 'papua-2' are located\n",
        "\n"
      ],
      "metadata": {
        "id": "4ElfjpaY6q6v"
      },
      "execution_count": 4,
      "outputs": []
    },
    {
      "cell_type": "code",
      "execution_count": 5,
      "metadata": {
        "id": "TzpkhnbsR_Q7"
      },
      "outputs": [],
      "source": [
        "# Constants\n",
        "IMAGE_SIZE = (299, 299)\n",
        "BATCH_SIZE = 32\n",
        "EPOCHS = 100"
      ]
    },
    {
      "cell_type": "code",
      "execution_count": 6,
      "metadata": {
        "id": "69Ch8XRnSFsg"
      },
      "outputs": [],
      "source": [
        "# Preprocessing Function\n",
        "def preprocess_image(image):\n",
        "    # Resize image\n",
        "    image = cv2.resize(image, IMAGE_SIZE)\n",
        "    # Histogram equalization\n",
        "    image = cv2.cvtColor(image, cv2.COLOR_BGR2GRAY)\n",
        "    image = cv2.equalizeHist(image)\n",
        "    # Apply noise reduction\n",
        "    image = cv2.fastNlMeansDenoising(image, h=10)\n",
        "    # Convert back to RGB\n",
        "    return cv2.cvtColor(image, cv2.COLOR_GRAY2RGB)"
      ]
    },
    {
      "cell_type": "code",
      "source": [
        "def apply_haar_wavelet_and_gaussian(image):\n",
        "    coeffs2 = pywt.dwt2(image, 'haar')\n",
        "    LL, (LH, HL, HH) = coeffs2\n",
        "    LL_gaussian = cv2.GaussianBlur(LL, (5, 5), 0)  # Apply Gaussian filter\n",
        "    return LL_gaussian  # Use the low-frequency component with Gaussian filter"
      ],
      "metadata": {
        "id": "35xK0a6ZwI3W"
      },
      "execution_count": 7,
      "outputs": []
    },
    {
      "cell_type": "code",
      "execution_count": 8,
      "metadata": {
        "id": "A13Ba3tKSKGT"
      },
      "outputs": [],
      "source": [
        "# Function to apply Haar wavelet transformation\n",
        "def apply_haar_wavelet(image):\n",
        "    I = image.astype(float)\n",
        "    m, n = I.shape[:2]\n",
        "    if m % 2 != 0:\n",
        "        m -= 1\n",
        "    if n % 2 != 0:\n",
        "        n -= 1\n",
        "    I = I[:m, :n]\n",
        "\n",
        "    LL = np.zeros((m // 2, n // 2))\n",
        "    for i in range(0, m, 2):\n",
        "        for j in range(0, n, 2):\n",
        "            Ixy = I[i:i + 2, j:j + 2]\n",
        "            LL[i // 2, j // 2] = np.mean(Ixy)\n",
        "    return LL"
      ]
    },
    {
      "cell_type": "code",
      "execution_count": 9,
      "metadata": {
        "id": "XpeyGgyySM3z"
      },
      "outputs": [],
      "source": [
        "# Function to extract HOG features\n",
        "def extract_hog_features(image):\n",
        "    if len(image.shape) == 3:\n",
        "        image = rgb2gray(image)\n",
        "    features, _ = hog(image, pixels_per_cell=(8, 8), cells_per_block=(2, 2), visualize=True)\n",
        "    return features"
      ]
    },
    {
      "cell_type": "code",
      "execution_count": 10,
      "metadata": {
        "id": "rBFoJaueSSPd"
      },
      "outputs": [],
      "source": [
        "def load_data(path):\n",
        "    data = []\n",
        "    labels = []\n",
        "    for folder in os.listdir(path):\n",
        "        folder_path = os.path.join(path, folder)\n",
        "        if os.path.isdir(folder_path):\n",
        "            for file in os.listdir(folder_path):\n",
        "                file_path = os.path.join(folder_path, file)\n",
        "                image = cv2.imread(file_path)\n",
        "                if image is not None:\n",
        "                    # Preprocess image\n",
        "                    image = preprocess_image(image)\n",
        "\n",
        "                    # Apply Haar wavelet\n",
        "                    #haar_image = apply_haar_wavelet(image)\n",
        "\n",
        "                    #Resize the image to 224x224 for ResNet50\n",
        "                    ##haar_image = apply_haar_wavelet_and_gaussian(haar_image)\n",
        "\n",
        "                    # Extract HOG features\n",
        "                    #hog_features = extract_hog_features(haar_image)\n",
        "\n",
        "                    # Extract Gabor features\n",
        "                    #gabor_features = extract_gabor_features(image)\n",
        "\n",
        "\n",
        "                    #Extract Haar + Gabor\n",
        "                    #combined_features = np.concatenate([haar_image.flatten(), gabor_features])\n",
        "\n",
        "                    # 1. Gaussian Smoothing\n",
        "                    gaussian_image = cv2.GaussianBlur(image, (5, 5), 0)\n",
        "\n",
        "                    # 2. Haar Wavelet (Modified for 3 channels)\n",
        "                    haar_image_LL = apply_haar_wavelet_and_gaussian(gaussian_image[:,:,0]) #Channel R\n",
        "                    haar_image_LH = apply_haar_wavelet_and_gaussian(gaussian_image[:,:,1]) #Channel G\n",
        "                    haar_image_HL = apply_haar_wavelet_and_gaussian(gaussian_image[:,:,2]) #Channel B\n",
        "                    haar_image = np.stack([haar_image_LL,haar_image_LH, haar_image_HL], axis=-1)\n",
        "                    haar_image = cv2.resize(haar_image.astype(np.uint8), IMAGE_SIZE)\n",
        "\n",
        "                    # 3. HOG Features (on the 3-channel Haar output)\n",
        "                    hog_features = extract_hog_features(haar_image)\n",
        "\n",
        "                    data.append(hog_features)  # Append the processed image\n",
        "\n",
        "                    #data.append(combined_features)  # Append the processed image\n",
        "\n",
        "                    labels.append(folder)\n",
        "\n",
        "    return np.array(data), np.array(labels)"
      ]
    },
    {
      "cell_type": "code",
      "source": [],
      "metadata": {
        "id": "0-h4fArUwFWs"
      },
      "execution_count": 10,
      "outputs": []
    },
    {
      "cell_type": "code",
      "source": [],
      "metadata": {
        "id": "o2VSNKJ2-Hw1"
      },
      "execution_count": 10,
      "outputs": []
    },
    {
      "cell_type": "code",
      "source": [],
      "metadata": {
        "id": "LeIgxb8g-MVb"
      },
      "execution_count": 10,
      "outputs": []
    },
    {
      "cell_type": "code",
      "execution_count": 11,
      "metadata": {
        "id": "KAP0lMIcSU1u"
      },
      "outputs": [],
      "source": [
        "# Load dataset\n",
        "data, labels = load_data(data_path)"
      ]
    },
    {
      "cell_type": "code",
      "source": [],
      "metadata": {
        "id": "agKK3jlu-M3D"
      },
      "execution_count": 11,
      "outputs": []
    },
    {
      "cell_type": "code",
      "source": [],
      "metadata": {
        "id": "xdUyEy3i8q2Z"
      },
      "execution_count": 11,
      "outputs": []
    },
    {
      "cell_type": "code",
      "source": [
        "num_images_to_display = 4  # Jumlah gambar yang ingin ditampilkan\n",
        "sample_images = data[:num_images_to_display]\n",
        "sample_labels = labels[:num_images_to_display]"
      ],
      "metadata": {
        "id": "HX3lp1Hs5Hq1"
      },
      "execution_count": 12,
      "outputs": []
    },
    {
      "cell_type": "code",
      "source": [
        "#fig, axes = plt.subplots(1, num_images_to_display, figsize=(15, 5))  # Sesuaikan figsize jika perlu\n",
        "#for i, (image, label) in enumerate(zip(sample_images, sample_labels)):\n",
        "#    axes[i].imshow(image.astype(np.uint8), cmap='gray')\n",
        "#    axes[i].axis('off')\n",
        "#    axes[i].set_title(label)  # Menampilkan label sebagai judul di bawah gambar\n",
        "#plt.show()"
      ],
      "metadata": {
        "id": "Ot6yezTv5JCU"
      },
      "execution_count": 13,
      "outputs": []
    },
    {
      "cell_type": "code",
      "execution_count": 14,
      "metadata": {
        "id": "T1Uftjw3SVSf"
      },
      "outputs": [],
      "source": [
        "# Encode labels\n",
        "encoder = LabelEncoder()\n",
        "labels_encoded = encoder.fit_transform(labels)\n"
      ]
    },
    {
      "cell_type": "code",
      "execution_count": 15,
      "metadata": {
        "id": "x47i3r-qSXC5"
      },
      "outputs": [],
      "source": [
        "# Split into training and testing\n",
        "from sklearn.model_selection import train_test_split\n",
        "train_data, test_data, train_labels, test_labels = train_test_split(data, labels_encoded, test_size=0.2, random_state=42)\n"
      ]
    },
    {
      "cell_type": "code",
      "execution_count": 16,
      "metadata": {
        "id": "KktpjT5iSZrZ"
      },
      "outputs": [],
      "source": [
        "# Class weights\n",
        "class_weights = compute_class_weight('balanced', classes=np.unique(train_labels), y=train_labels)\n",
        "class_weight_dict = dict(enumerate(class_weights))\n"
      ]
    },
    {
      "cell_type": "code",
      "execution_count": 17,
      "metadata": {
        "id": "CPJhEjBfSb0v",
        "colab": {
          "base_uri": "https://localhost:8080/"
        },
        "outputId": "ba9f207d-1ddb-404a-8b65-dc00a9222a40"
      },
      "outputs": [
        {
          "output_type": "stream",
          "name": "stdout",
          "text": [
            "Downloading data from https://storage.googleapis.com/tensorflow/keras-applications/inception_v3/inception_v3_weights_tf_dim_ordering_tf_kernels_notop.h5\n",
            "\u001b[1m87910968/87910968\u001b[0m \u001b[32m━━━━━━━━━━━━━━━━━━━━\u001b[0m\u001b[37m\u001b[0m \u001b[1m5s\u001b[0m 0us/step\n"
          ]
        }
      ],
      "source": [
        "# Define CNN model with pretrained ResNet50\n",
        "def build_model():\n",
        "    input_tensor = Input(shape=(299, 299, 3))\n",
        "    #base_model = ResNet50(weights='imagenet', include_top=False, input_tensor=input_tensor)\n",
        "    #base_model = EfficientNetB0(weights='imagenet', include_top=False, input_tensor=input_tensor)  # Ganti ResNet50 dengan EfficientNetB\n",
        "    #base_model = VGG16(weights='imagenet', include_top=False, input_tensor=input_tensor)\n",
        "    #base_model = MobileNetV2(weights='imagenet', include_top=False, input_shape=(224, 224, 3))\n",
        "    base_model = InceptionV3(weights='imagenet', include_top=False, input_shape=(299, 299, 3))\n",
        "    x = base_model.output\n",
        "    x = GlobalAveragePooling2D()(x)\n",
        "    x = BatchNormalization()(x)\n",
        "    x = Dense(512, activation='relu', kernel_regularizer=tf.keras.regularizers.l2(0.01))(x)  # Tambahan lapisan\n",
        "    x = Dropout(0.5)(x)\n",
        "    x = Dense(256, activation='relu', kernel_regularizer=tf.keras.regularizers.l2(0.01))(x)\n",
        "    x = Dropout(0.5)(x)\n",
        "    x = Dense(128, activation='relu', kernel_regularizer=tf.keras.regularizers.l2(0.01))(x)\n",
        "    x = Dropout(0.5)(x)\n",
        "    predictions = Dense(len(encoder.classes_), activation='softmax')(x)\n",
        "\n",
        "    model = Model(inputs=base_model.input, outputs=predictions)\n",
        "\n",
        "    # Unfreeze the top layers of the model\n",
        "    for layer in base_model.layers[-50:]:\n",
        "        layer.trainable = True\n",
        "\n",
        "    # Compile model\n",
        "    model.compile(optimizer=tf.keras.optimizers.Adam(learning_rate=1e-4), loss='categorical_crossentropy', metrics=['accuracy'])\n",
        "    return model\n",
        "\n",
        "model = build_model()"
      ]
    },
    {
      "cell_type": "code",
      "execution_count": 18,
      "metadata": {
        "id": "T4xJ7D2bSf6F"
      },
      "outputs": [],
      "source": [
        "# Data augmentation\n",
        "train_datagen = ImageDataGenerator(\n",
        "    #rotation_range=40,\n",
        "    width_shift_range=0.3,\n",
        "    height_shift_range=0.3,\n",
        "    shear_range=0.5,\n",
        "    #zoom_range=0.5,\n",
        "    #horizontal_flip=True,\n",
        "    brightness_range=[0.8, 1.2],\n",
        "    #fill_mode='nearest'\n",
        ")"
      ]
    },
    {
      "cell_type": "code",
      "execution_count": 19,
      "metadata": {
        "id": "xAcGlN-0SlhF"
      },
      "outputs": [],
      "source": [
        "test_datagen = ImageDataGenerator()"
      ]
    },
    {
      "cell_type": "code",
      "execution_count": 20,
      "metadata": {
        "id": "0GbT6qBdSogc"
      },
      "outputs": [],
      "source": [
        "# Load and preprocess images for CNN\n",
        "def load_and_preprocess_images(path):\n",
        "    images = []\n",
        "    labels = []\n",
        "    for folder in os.listdir(path):\n",
        "        folder_path = os.path.join(path, folder)\n",
        "        if os.path.isdir(folder_path):\n",
        "            for file in os.listdir(folder_path):\n",
        "                file_path = os.path.join(folder_path, file)\n",
        "                image = cv2.imread(file_path)\n",
        "                if image is not None:\n",
        "                    image = preprocess_image(image)\n",
        "                    images.append(image)\n",
        "                    labels.append(folder)\n",
        "    return np.array(images), np.array(labels)\n"
      ]
    },
    {
      "cell_type": "code",
      "execution_count": 21,
      "metadata": {
        "id": "WiDv3UB1SpWF"
      },
      "outputs": [],
      "source": [
        "train_images, train_labels = load_and_preprocess_images(data_path)\n",
        "test_images, test_labels = load_and_preprocess_images(data_path)\n"
      ]
    },
    {
      "cell_type": "code",
      "execution_count": 22,
      "metadata": {
        "id": "w-O35jj_SrTj"
      },
      "outputs": [],
      "source": [
        "# Encode labels\n",
        "train_labels_encoded = encoder.fit_transform(train_labels)\n",
        "test_labels_encoded = encoder.transform(test_labels)\n",
        "\n",
        "train_labels_categorical = to_categorical(train_labels_encoded)\n",
        "test_labels_categorical = to_categorical(test_labels_encoded)\n",
        "\n",
        "# Callbacks\n",
        "reduce_lr = tf.keras.callbacks.ReduceLROnPlateau(monitor='val_loss', factor=0.2, patience=5, min_lr=1e-5)\n",
        "early_stopping = tf.keras.callbacks.EarlyStopping(monitor='val_loss', patience=5, restore_best_weights=True)\n"
      ]
    },
    {
      "cell_type": "code",
      "execution_count": 23,
      "metadata": {
        "id": "NOUQWru6SvQZ",
        "colab": {
          "base_uri": "https://localhost:8080/"
        },
        "outputId": "523ac555-3a87-4479-e1af-89cd6122b8d4"
      },
      "outputs": [
        {
          "metadata": {
            "tags": null
          },
          "name": "stdout",
          "output_type": "stream",
          "text": [
            "Epoch 1/100\n"
          ]
        },
        {
          "metadata": {
            "tags": null
          },
          "name": "stderr",
          "output_type": "stream",
          "text": [
            "/usr/local/lib/python3.10/dist-packages/keras/src/trainers/data_adapters/py_dataset_adapter.py:122: UserWarning: Your `PyDataset` class should call `super().__init__(**kwargs)` in its constructor. `**kwargs` can include `workers`, `use_multiprocessing`, `max_queue_size`. Do not pass these arguments to `fit()`, as they will be ignored.\n",
            "  self._warn_if_super_not_called()\n"
          ]
        },
        {
          "output_type": "stream",
          "name": "stdout",
          "text": [
            "\u001b[1m48/48\u001b[0m \u001b[32m━━━━━━━━━━━━━━━━━━━━\u001b[0m\u001b[37m\u001b[0m \u001b[1m204s\u001b[0m 2s/step - accuracy: 0.2080 - loss: 16.1658 - val_accuracy: 0.1690 - val_loss: 14.7694 - learning_rate: 1.0000e-04\n",
            "Epoch 2/100\n",
            "\u001b[1m48/48\u001b[0m \u001b[32m━━━━━━━━━━━━━━━━━━━━\u001b[0m\u001b[37m\u001b[0m \u001b[1m39s\u001b[0m 721ms/step - accuracy: 0.2096 - loss: 15.5860 - val_accuracy: 0.2056 - val_loss: 14.5864 - learning_rate: 1.0000e-04\n",
            "Epoch 3/100\n",
            "\u001b[1m48/48\u001b[0m \u001b[32m━━━━━━━━━━━━━━━━━━━━\u001b[0m\u001b[37m\u001b[0m \u001b[1m39s\u001b[0m 714ms/step - accuracy: 0.2405 - loss: 15.1311 - val_accuracy: 0.2547 - val_loss: 14.4029 - learning_rate: 1.0000e-04\n",
            "Epoch 4/100\n",
            "\u001b[1m48/48\u001b[0m \u001b[32m━━━━━━━━━━━━━━━━━━━━\u001b[0m\u001b[37m\u001b[0m \u001b[1m39s\u001b[0m 722ms/step - accuracy: 0.2165 - loss: 14.8942 - val_accuracy: 0.2508 - val_loss: 14.2314 - learning_rate: 1.0000e-04\n",
            "Epoch 5/100\n",
            "\u001b[1m48/48\u001b[0m \u001b[32m━━━━━━━━━━━━━━━━━━━━\u001b[0m\u001b[37m\u001b[0m \u001b[1m40s\u001b[0m 727ms/step - accuracy: 0.2191 - loss: 14.6740 - val_accuracy: 0.2561 - val_loss: 14.0511 - learning_rate: 1.0000e-04\n",
            "Epoch 6/100\n",
            "\u001b[1m48/48\u001b[0m \u001b[32m━━━━━━━━━━━━━━━━━━━━\u001b[0m\u001b[37m\u001b[0m \u001b[1m39s\u001b[0m 720ms/step - accuracy: 0.2113 - loss: 14.4292 - val_accuracy: 0.2855 - val_loss: 13.8617 - learning_rate: 1.0000e-04\n",
            "Epoch 7/100\n",
            "\u001b[1m48/48\u001b[0m \u001b[32m━━━━━━━━━━━━━━━━━━━━\u001b[0m\u001b[37m\u001b[0m \u001b[1m39s\u001b[0m 715ms/step - accuracy: 0.2051 - loss: 14.1372 - val_accuracy: 0.2770 - val_loss: 13.6823 - learning_rate: 1.0000e-04\n",
            "Epoch 8/100\n",
            "\u001b[1m48/48\u001b[0m \u001b[32m━━━━━━━━━━━━━━━━━━━━\u001b[0m\u001b[37m\u001b[0m \u001b[1m39s\u001b[0m 713ms/step - accuracy: 0.2315 - loss: 13.8919 - val_accuracy: 0.2842 - val_loss: 13.4906 - learning_rate: 1.0000e-04\n",
            "Epoch 9/100\n",
            "\u001b[1m48/48\u001b[0m \u001b[32m━━━━━━━━━━━━━━━━━━━━\u001b[0m\u001b[37m\u001b[0m \u001b[1m38s\u001b[0m 702ms/step - accuracy: 0.2387 - loss: 13.7085 - val_accuracy: 0.3373 - val_loss: 13.2875 - learning_rate: 1.0000e-04\n",
            "Epoch 10/100\n",
            "\u001b[1m48/48\u001b[0m \u001b[32m━━━━━━━━━━━━━━━━━━━━\u001b[0m\u001b[37m\u001b[0m \u001b[1m38s\u001b[0m 697ms/step - accuracy: 0.2178 - loss: 13.4588 - val_accuracy: 0.3556 - val_loss: 13.0777 - learning_rate: 1.0000e-04\n",
            "Epoch 11/100\n",
            "\u001b[1m48/48\u001b[0m \u001b[32m━━━━━━━━━━━━━━━━━━━━\u001b[0m\u001b[37m\u001b[0m \u001b[1m38s\u001b[0m 695ms/step - accuracy: 0.2486 - loss: 13.1995 - val_accuracy: 0.3451 - val_loss: 12.8734 - learning_rate: 1.0000e-04\n",
            "Epoch 12/100\n",
            "\u001b[1m48/48\u001b[0m \u001b[32m━━━━━━━━━━━━━━━━━━━━\u001b[0m\u001b[37m\u001b[0m \u001b[1m38s\u001b[0m 691ms/step - accuracy: 0.2725 - loss: 12.9704 - val_accuracy: 0.3792 - val_loss: 12.6534 - learning_rate: 1.0000e-04\n",
            "Epoch 13/100\n",
            "\u001b[1m48/48\u001b[0m \u001b[32m━━━━━━━━━━━━━━━━━━━━\u001b[0m\u001b[37m\u001b[0m \u001b[1m38s\u001b[0m 693ms/step - accuracy: 0.2358 - loss: 12.8278 - val_accuracy: 0.3687 - val_loss: 12.4435 - learning_rate: 1.0000e-04\n",
            "Epoch 14/100\n",
            "\u001b[1m48/48\u001b[0m \u001b[32m━━━━━━━━━━━━━━━━━━━━\u001b[0m\u001b[37m\u001b[0m \u001b[1m38s\u001b[0m 692ms/step - accuracy: 0.2693 - loss: 12.5340 - val_accuracy: 0.3818 - val_loss: 12.2154 - learning_rate: 1.0000e-04\n",
            "Epoch 15/100\n",
            "\u001b[1m48/48\u001b[0m \u001b[32m━━━━━━━━━━━━━━━━━━━━\u001b[0m\u001b[37m\u001b[0m \u001b[1m38s\u001b[0m 699ms/step - accuracy: 0.3173 - loss: 12.2987 - val_accuracy: 0.3831 - val_loss: 11.9901 - learning_rate: 1.0000e-04\n",
            "Epoch 16/100\n",
            "\u001b[1m48/48\u001b[0m \u001b[32m━━━━━━━━━━━━━━━━━━━━\u001b[0m\u001b[37m\u001b[0m \u001b[1m38s\u001b[0m 694ms/step - accuracy: 0.2950 - loss: 12.0793 - val_accuracy: 0.4054 - val_loss: 11.7580 - learning_rate: 1.0000e-04\n",
            "Epoch 17/100\n",
            "\u001b[1m48/48\u001b[0m \u001b[32m━━━━━━━━━━━━━━━━━━━━\u001b[0m\u001b[37m\u001b[0m \u001b[1m38s\u001b[0m 693ms/step - accuracy: 0.3463 - loss: 11.8332 - val_accuracy: 0.4060 - val_loss: 11.5493 - learning_rate: 1.0000e-04\n",
            "Epoch 18/100\n",
            "\u001b[1m48/48\u001b[0m \u001b[32m━━━━━━━━━━━━━━━━━━━━\u001b[0m\u001b[37m\u001b[0m \u001b[1m38s\u001b[0m 699ms/step - accuracy: 0.3347 - loss: 11.5784 - val_accuracy: 0.4401 - val_loss: 11.3238 - learning_rate: 1.0000e-04\n",
            "Epoch 19/100\n",
            "\u001b[1m48/48\u001b[0m \u001b[32m━━━━━━━━━━━━━━━━━━━━\u001b[0m\u001b[37m\u001b[0m \u001b[1m38s\u001b[0m 696ms/step - accuracy: 0.3613 - loss: 11.3871 - val_accuracy: 0.4630 - val_loss: 11.1059 - learning_rate: 1.0000e-04\n",
            "Epoch 20/100\n",
            "\u001b[1m48/48\u001b[0m \u001b[32m━━━━━━━━━━━━━━━━━━━━\u001b[0m\u001b[37m\u001b[0m \u001b[1m38s\u001b[0m 703ms/step - accuracy: 0.4191 - loss: 11.0646 - val_accuracy: 0.5344 - val_loss: 10.7771 - learning_rate: 1.0000e-04\n",
            "Epoch 21/100\n",
            "\u001b[1m48/48\u001b[0m \u001b[32m━━━━━━━━━━━━━━━━━━━━\u001b[0m\u001b[37m\u001b[0m \u001b[1m38s\u001b[0m 696ms/step - accuracy: 0.4300 - loss: 10.8319 - val_accuracy: 0.5029 - val_loss: 10.5340 - learning_rate: 1.0000e-04\n",
            "Epoch 22/100\n",
            "\u001b[1m48/48\u001b[0m \u001b[32m━━━━━━━━━━━━━━━━━━━━\u001b[0m\u001b[37m\u001b[0m \u001b[1m38s\u001b[0m 696ms/step - accuracy: 0.4684 - loss: 10.5715 - val_accuracy: 0.5606 - val_loss: 10.2647 - learning_rate: 1.0000e-04\n",
            "Epoch 23/100\n",
            "\u001b[1m48/48\u001b[0m \u001b[32m━━━━━━━━━━━━━━━━━━━━\u001b[0m\u001b[37m\u001b[0m \u001b[1m38s\u001b[0m 697ms/step - accuracy: 0.4355 - loss: 10.3485 - val_accuracy: 0.5553 - val_loss: 10.0326 - learning_rate: 1.0000e-04\n",
            "Epoch 24/100\n",
            "\u001b[1m48/48\u001b[0m \u001b[32m━━━━━━━━━━━━━━━━━━━━\u001b[0m\u001b[37m\u001b[0m \u001b[1m38s\u001b[0m 700ms/step - accuracy: 0.4828 - loss: 10.1120 - val_accuracy: 0.5383 - val_loss: 9.8209 - learning_rate: 1.0000e-04\n",
            "Epoch 25/100\n",
            "\u001b[1m48/48\u001b[0m \u001b[32m━━━━━━━━━━━━━━━━━━━━\u001b[0m\u001b[37m\u001b[0m \u001b[1m38s\u001b[0m 703ms/step - accuracy: 0.4910 - loss: 9.8761 - val_accuracy: 0.5599 - val_loss: 9.6507 - learning_rate: 1.0000e-04\n",
            "Epoch 26/100\n",
            "\u001b[1m48/48\u001b[0m \u001b[32m━━━━━━━━━━━━━━━━━━━━\u001b[0m\u001b[37m\u001b[0m \u001b[1m39s\u001b[0m 707ms/step - accuracy: 0.5218 - loss: 9.6507 - val_accuracy: 0.5193 - val_loss: 9.5133 - learning_rate: 1.0000e-04\n",
            "Epoch 27/100\n",
            "\u001b[1m48/48\u001b[0m \u001b[32m━━━━━━━━━━━━━━━━━━━━\u001b[0m\u001b[37m\u001b[0m \u001b[1m38s\u001b[0m 700ms/step - accuracy: 0.5809 - loss: 9.3531 - val_accuracy: 0.6968 - val_loss: 9.0101 - learning_rate: 1.0000e-04\n",
            "Epoch 28/100\n",
            "\u001b[1m48/48\u001b[0m \u001b[32m━━━━━━━━━━━━━━━━━━━━\u001b[0m\u001b[37m\u001b[0m \u001b[1m38s\u001b[0m 691ms/step - accuracy: 0.5691 - loss: 9.1523 - val_accuracy: 0.6379 - val_loss: 8.8791 - learning_rate: 1.0000e-04\n",
            "Epoch 29/100\n",
            "\u001b[1m48/48\u001b[0m \u001b[32m━━━━━━━━━━━━━━━━━━━━\u001b[0m\u001b[37m\u001b[0m \u001b[1m38s\u001b[0m 696ms/step - accuracy: 0.6060 - loss: 8.9042 - val_accuracy: 0.7184 - val_loss: 8.5378 - learning_rate: 1.0000e-04\n",
            "Epoch 30/100\n",
            "\u001b[1m48/48\u001b[0m \u001b[32m━━━━━━━━━━━━━━━━━━━━\u001b[0m\u001b[37m\u001b[0m \u001b[1m38s\u001b[0m 698ms/step - accuracy: 0.5783 - loss: 8.6972 - val_accuracy: 0.7289 - val_loss: 8.2861 - learning_rate: 1.0000e-04\n",
            "Epoch 31/100\n",
            "\u001b[1m48/48\u001b[0m \u001b[32m━━━━━━━━━━━━━━━━━━━━\u001b[0m\u001b[37m\u001b[0m \u001b[1m38s\u001b[0m 695ms/step - accuracy: 0.6581 - loss: 8.4035 - val_accuracy: 0.7164 - val_loss: 8.1103 - learning_rate: 1.0000e-04\n",
            "Epoch 32/100\n",
            "\u001b[1m48/48\u001b[0m \u001b[32m━━━━━━━━━━━━━━━━━━━━\u001b[0m\u001b[37m\u001b[0m \u001b[1m38s\u001b[0m 696ms/step - accuracy: 0.6945 - loss: 8.1697 - val_accuracy: 0.7433 - val_loss: 7.8383 - learning_rate: 1.0000e-04\n",
            "Epoch 33/100\n",
            "\u001b[1m48/48\u001b[0m \u001b[32m━━━━━━━━━━━━━━━━━━━━\u001b[0m\u001b[37m\u001b[0m \u001b[1m38s\u001b[0m 696ms/step - accuracy: 0.6978 - loss: 7.9171 - val_accuracy: 0.7210 - val_loss: 7.7988 - learning_rate: 1.0000e-04\n",
            "Epoch 34/100\n",
            "\u001b[1m48/48\u001b[0m \u001b[32m━━━━━━━━━━━━━━━━━━━━\u001b[0m\u001b[37m\u001b[0m \u001b[1m38s\u001b[0m 694ms/step - accuracy: 0.7004 - loss: 7.7092 - val_accuracy: 0.7485 - val_loss: 7.5104 - learning_rate: 1.0000e-04\n",
            "Epoch 35/100\n",
            "\u001b[1m48/48\u001b[0m \u001b[32m━━━━━━━━━━━━━━━━━━━━\u001b[0m\u001b[37m\u001b[0m \u001b[1m38s\u001b[0m 699ms/step - accuracy: 0.7383 - loss: 7.4687 - val_accuracy: 0.8101 - val_loss: 7.1621 - learning_rate: 1.0000e-04\n",
            "Epoch 36/100\n",
            "\u001b[1m48/48\u001b[0m \u001b[32m━━━━━━━━━━━━━━━━━━━━\u001b[0m\u001b[37m\u001b[0m \u001b[1m38s\u001b[0m 693ms/step - accuracy: 0.7583 - loss: 7.2267 - val_accuracy: 0.8802 - val_loss: 6.8104 - learning_rate: 1.0000e-04\n",
            "Epoch 37/100\n",
            "\u001b[1m48/48\u001b[0m \u001b[32m━━━━━━━━━━━━━━━━━━━━\u001b[0m\u001b[37m\u001b[0m \u001b[1m38s\u001b[0m 693ms/step - accuracy: 0.8410 - loss: 6.9254 - val_accuracy: 0.8710 - val_loss: 6.6601 - learning_rate: 1.0000e-04\n",
            "Epoch 38/100\n",
            "\u001b[1m48/48\u001b[0m \u001b[32m━━━━━━━━━━━━━━━━━━━━\u001b[0m\u001b[37m\u001b[0m \u001b[1m38s\u001b[0m 691ms/step - accuracy: 0.8268 - loss: 6.7664 - val_accuracy: 0.8867 - val_loss: 6.4184 - learning_rate: 1.0000e-04\n",
            "Epoch 39/100\n",
            "\u001b[1m48/48\u001b[0m \u001b[32m━━━━━━━━━━━━━━━━━━━━\u001b[0m\u001b[37m\u001b[0m \u001b[1m38s\u001b[0m 691ms/step - accuracy: 0.8311 - loss: 6.5833 - val_accuracy: 0.9332 - val_loss: 6.1524 - learning_rate: 1.0000e-04\n",
            "Epoch 40/100\n",
            "\u001b[1m48/48\u001b[0m \u001b[32m━━━━━━━━━━━━━━━━━━━━\u001b[0m\u001b[37m\u001b[0m \u001b[1m38s\u001b[0m 692ms/step - accuracy: 0.8449 - loss: 6.3272 - val_accuracy: 0.8998 - val_loss: 6.0784 - learning_rate: 1.0000e-04\n",
            "Epoch 41/100\n",
            "\u001b[1m48/48\u001b[0m \u001b[32m━━━━━━━━━━━━━━━━━━━━\u001b[0m\u001b[37m\u001b[0m \u001b[1m38s\u001b[0m 693ms/step - accuracy: 0.8672 - loss: 6.1206 - val_accuracy: 0.9057 - val_loss: 5.8733 - learning_rate: 1.0000e-04\n",
            "Epoch 42/100\n",
            "\u001b[1m48/48\u001b[0m \u001b[32m━━━━━━━━━━━━━━━━━━━━\u001b[0m\u001b[37m\u001b[0m \u001b[1m38s\u001b[0m 696ms/step - accuracy: 0.8947 - loss: 5.8969 - val_accuracy: 0.7937 - val_loss: 6.0837 - learning_rate: 1.0000e-04\n",
            "Epoch 43/100\n",
            "\u001b[1m48/48\u001b[0m \u001b[32m━━━━━━━━━━━━━━━━━━━━\u001b[0m\u001b[37m\u001b[0m \u001b[1m38s\u001b[0m 699ms/step - accuracy: 0.8983 - loss: 5.7326 - val_accuracy: 0.9699 - val_loss: 5.3940 - learning_rate: 1.0000e-04\n",
            "Epoch 44/100\n",
            "\u001b[1m48/48\u001b[0m \u001b[32m━━━━━━━━━━━━━━━━━━━━\u001b[0m\u001b[37m\u001b[0m \u001b[1m38s\u001b[0m 699ms/step - accuracy: 0.9000 - loss: 5.5540 - val_accuracy: 0.9162 - val_loss: 5.3584 - learning_rate: 1.0000e-04\n",
            "Epoch 45/100\n",
            "\u001b[1m48/48\u001b[0m \u001b[32m━━━━━━━━━━━━━━━━━━━━\u001b[0m\u001b[37m\u001b[0m \u001b[1m38s\u001b[0m 697ms/step - accuracy: 0.9031 - loss: 5.3820 - val_accuracy: 0.9489 - val_loss: 5.0895 - learning_rate: 1.0000e-04\n",
            "Epoch 46/100\n",
            "\u001b[1m48/48\u001b[0m \u001b[32m━━━━━━━━━━━━━━━━━━━━\u001b[0m\u001b[37m\u001b[0m \u001b[1m38s\u001b[0m 698ms/step - accuracy: 0.9100 - loss: 5.1961 - val_accuracy: 0.8952 - val_loss: 5.0751 - learning_rate: 1.0000e-04\n",
            "Epoch 47/100\n",
            "\u001b[1m48/48\u001b[0m \u001b[32m━━━━━━━━━━━━━━━━━━━━\u001b[0m\u001b[37m\u001b[0m \u001b[1m38s\u001b[0m 697ms/step - accuracy: 0.9502 - loss: 4.9455 - val_accuracy: 0.9417 - val_loss: 4.8046 - learning_rate: 1.0000e-04\n",
            "Epoch 48/100\n",
            "\u001b[1m48/48\u001b[0m \u001b[32m━━━━━━━━━━━━━━━━━━━━\u001b[0m\u001b[37m\u001b[0m \u001b[1m38s\u001b[0m 700ms/step - accuracy: 0.9520 - loss: 4.7439 - val_accuracy: 0.9535 - val_loss: 4.6046 - learning_rate: 1.0000e-04\n",
            "Epoch 49/100\n",
            "\u001b[1m48/48\u001b[0m \u001b[32m━━━━━━━━━━━━━━━━━━━━\u001b[0m\u001b[37m\u001b[0m \u001b[1m38s\u001b[0m 695ms/step - accuracy: 0.9354 - loss: 4.6591 - val_accuracy: 0.9352 - val_loss: 4.5039 - learning_rate: 1.0000e-04\n",
            "Epoch 50/100\n",
            "\u001b[1m48/48\u001b[0m \u001b[32m━━━━━━━━━━━━━━━━━━━━\u001b[0m\u001b[37m\u001b[0m \u001b[1m38s\u001b[0m 695ms/step - accuracy: 0.9429 - loss: 4.5072 - val_accuracy: 0.9253 - val_loss: 4.3826 - learning_rate: 1.0000e-04\n",
            "Epoch 51/100\n",
            "\u001b[1m48/48\u001b[0m \u001b[32m━━━━━━━━━━━━━━━━━━━━\u001b[0m\u001b[37m\u001b[0m \u001b[1m38s\u001b[0m 696ms/step - accuracy: 0.9377 - loss: 4.3470 - val_accuracy: 0.9293 - val_loss: 4.2471 - learning_rate: 1.0000e-04\n",
            "Epoch 52/100\n",
            "\u001b[1m48/48\u001b[0m \u001b[32m━━━━━━━━━━━━━━━━━━━━\u001b[0m\u001b[37m\u001b[0m \u001b[1m38s\u001b[0m 689ms/step - accuracy: 0.9524 - loss: 4.1433 - val_accuracy: 0.9587 - val_loss: 4.0102 - learning_rate: 1.0000e-04\n",
            "Epoch 53/100\n",
            "\u001b[1m48/48\u001b[0m \u001b[32m━━━━━━━━━━━━━━━━━━━━\u001b[0m\u001b[37m\u001b[0m \u001b[1m37s\u001b[0m 685ms/step - accuracy: 0.9343 - loss: 4.0968 - val_accuracy: 0.9555 - val_loss: 3.8678 - learning_rate: 1.0000e-04\n",
            "Epoch 54/100\n",
            "\u001b[1m48/48\u001b[0m \u001b[32m━━━━━━━━━━━━━━━━━━━━\u001b[0m\u001b[37m\u001b[0m \u001b[1m38s\u001b[0m 690ms/step - accuracy: 0.9548 - loss: 3.8757 - val_accuracy: 0.9777 - val_loss: 3.6721 - learning_rate: 1.0000e-04\n",
            "Epoch 55/100\n",
            "\u001b[1m48/48\u001b[0m \u001b[32m━━━━━━━━━━━━━━━━━━━━\u001b[0m\u001b[37m\u001b[0m \u001b[1m38s\u001b[0m 691ms/step - accuracy: 0.9541 - loss: 3.7264 - val_accuracy: 0.9686 - val_loss: 3.5683 - learning_rate: 1.0000e-04\n",
            "Epoch 56/100\n",
            "\u001b[1m48/48\u001b[0m \u001b[32m━━━━━━━━━━━━━━━━━━━━\u001b[0m\u001b[37m\u001b[0m \u001b[1m37s\u001b[0m 684ms/step - accuracy: 0.9578 - loss: 3.6014 - val_accuracy: 0.9797 - val_loss: 3.4038 - learning_rate: 1.0000e-04\n",
            "Epoch 57/100\n",
            "\u001b[1m48/48\u001b[0m \u001b[32m━━━━━━━━━━━━━━━━━━━━\u001b[0m\u001b[37m\u001b[0m \u001b[1m38s\u001b[0m 687ms/step - accuracy: 0.9409 - loss: 3.4828 - val_accuracy: 0.9594 - val_loss: 3.3368 - learning_rate: 1.0000e-04\n",
            "Epoch 58/100\n",
            "\u001b[1m48/48\u001b[0m \u001b[32m━━━━━━━━━━━━━━━━━━━━\u001b[0m\u001b[37m\u001b[0m \u001b[1m38s\u001b[0m 689ms/step - accuracy: 0.9607 - loss: 3.3462 - val_accuracy: 0.8461 - val_loss: 3.6916 - learning_rate: 1.0000e-04\n",
            "Epoch 59/100\n",
            "\u001b[1m48/48\u001b[0m \u001b[32m━━━━━━━━━━━━━━━━━━━━\u001b[0m\u001b[37m\u001b[0m \u001b[1m38s\u001b[0m 690ms/step - accuracy: 0.9626 - loss: 3.2158 - val_accuracy: 0.8730 - val_loss: 3.4072 - learning_rate: 1.0000e-04\n",
            "Epoch 60/100\n",
            "\u001b[1m48/48\u001b[0m \u001b[32m━━━━━━━━━━━━━━━━━━━━\u001b[0m\u001b[37m\u001b[0m \u001b[1m38s\u001b[0m 687ms/step - accuracy: 0.9657 - loss: 3.0692 - val_accuracy: 0.9339 - val_loss: 3.0729 - learning_rate: 1.0000e-04\n",
            "Epoch 61/100\n",
            "\u001b[1m48/48\u001b[0m \u001b[32m━━━━━━━━━━━━━━━━━━━━\u001b[0m\u001b[37m\u001b[0m \u001b[1m38s\u001b[0m 687ms/step - accuracy: 0.9651 - loss: 2.9534 - val_accuracy: 0.9725 - val_loss: 2.8211 - learning_rate: 1.0000e-04\n",
            "Epoch 62/100\n",
            "\u001b[1m48/48\u001b[0m \u001b[32m━━━━━━━━━━━━━━━━━━━━\u001b[0m\u001b[37m\u001b[0m \u001b[1m37s\u001b[0m 684ms/step - accuracy: 0.9536 - loss: 2.8584 - val_accuracy: 0.9758 - val_loss: 2.6979 - learning_rate: 1.0000e-04\n",
            "Epoch 63/100\n",
            "\u001b[1m48/48\u001b[0m \u001b[32m━━━━━━━━━━━━━━━━━━━━\u001b[0m\u001b[37m\u001b[0m \u001b[1m37s\u001b[0m 686ms/step - accuracy: 0.9713 - loss: 2.7360 - val_accuracy: 0.9915 - val_loss: 2.5476 - learning_rate: 1.0000e-04\n",
            "Epoch 64/100\n",
            "\u001b[1m48/48\u001b[0m \u001b[32m━━━━━━━━━━━━━━━━━━━━\u001b[0m\u001b[37m\u001b[0m \u001b[1m38s\u001b[0m 686ms/step - accuracy: 0.9654 - loss: 2.6258 - val_accuracy: 0.9843 - val_loss: 2.4510 - learning_rate: 1.0000e-04\n",
            "Epoch 65/100\n",
            "\u001b[1m48/48\u001b[0m \u001b[32m━━━━━━━━━━━━━━━━━━━━\u001b[0m\u001b[37m\u001b[0m \u001b[1m38s\u001b[0m 691ms/step - accuracy: 0.9633 - loss: 2.5072 - val_accuracy: 0.9876 - val_loss: 2.3500 - learning_rate: 1.0000e-04\n",
            "Epoch 66/100\n",
            "\u001b[1m48/48\u001b[0m \u001b[32m━━━━━━━━━━━━━━━━━━━━\u001b[0m\u001b[37m\u001b[0m \u001b[1m38s\u001b[0m 696ms/step - accuracy: 0.9781 - loss: 2.3801 - val_accuracy: 0.9679 - val_loss: 2.3130 - learning_rate: 1.0000e-04\n",
            "Epoch 67/100\n",
            "\u001b[1m48/48\u001b[0m \u001b[32m━━━━━━━━━━━━━━━━━━━━\u001b[0m\u001b[37m\u001b[0m \u001b[1m38s\u001b[0m 693ms/step - accuracy: 0.9778 - loss: 2.2835 - val_accuracy: 0.9836 - val_loss: 2.1745 - learning_rate: 1.0000e-04\n",
            "Epoch 68/100\n",
            "\u001b[1m48/48\u001b[0m \u001b[32m━━━━━━━━━━━━━━━━━━━━\u001b[0m\u001b[37m\u001b[0m \u001b[1m37s\u001b[0m 684ms/step - accuracy: 0.9540 - loss: 2.2447 - val_accuracy: 0.9666 - val_loss: 2.1540 - learning_rate: 1.0000e-04\n",
            "Epoch 69/100\n",
            "\u001b[1m48/48\u001b[0m \u001b[32m━━━━━━━━━━━━━━━━━━━━\u001b[0m\u001b[37m\u001b[0m \u001b[1m37s\u001b[0m 683ms/step - accuracy: 0.9560 - loss: 2.1749 - val_accuracy: 0.9948 - val_loss: 1.9609 - learning_rate: 1.0000e-04\n",
            "Epoch 70/100\n",
            "\u001b[1m48/48\u001b[0m \u001b[32m━━━━━━━━━━━━━━━━━━━━\u001b[0m\u001b[37m\u001b[0m \u001b[1m38s\u001b[0m 693ms/step - accuracy: 0.9815 - loss: 1.9908 - val_accuracy: 0.9790 - val_loss: 1.9195 - learning_rate: 1.0000e-04\n",
            "Epoch 71/100\n",
            "\u001b[1m48/48\u001b[0m \u001b[32m━━━━━━━━━━━━━━━━━━━━\u001b[0m\u001b[37m\u001b[0m \u001b[1m38s\u001b[0m 690ms/step - accuracy: 0.9747 - loss: 1.9345 - val_accuracy: 0.9810 - val_loss: 1.8293 - learning_rate: 1.0000e-04\n",
            "Epoch 72/100\n",
            "\u001b[1m48/48\u001b[0m \u001b[32m━━━━━━━━━━━━━━━━━━━━\u001b[0m\u001b[37m\u001b[0m \u001b[1m38s\u001b[0m 687ms/step - accuracy: 0.9736 - loss: 1.8427 - val_accuracy: 0.9522 - val_loss: 1.8468 - learning_rate: 1.0000e-04\n",
            "Epoch 73/100\n",
            "\u001b[1m48/48\u001b[0m \u001b[32m━━━━━━━━━━━━━━━━━━━━\u001b[0m\u001b[37m\u001b[0m \u001b[1m38s\u001b[0m 696ms/step - accuracy: 0.9733 - loss: 1.7618 - val_accuracy: 0.9961 - val_loss: 1.6277 - learning_rate: 1.0000e-04\n",
            "Epoch 74/100\n",
            "\u001b[1m48/48\u001b[0m \u001b[32m━━━━━━━━━━━━━━━━━━━━\u001b[0m\u001b[37m\u001b[0m \u001b[1m38s\u001b[0m 688ms/step - accuracy: 0.9706 - loss: 1.6951 - val_accuracy: 0.9836 - val_loss: 1.5866 - learning_rate: 1.0000e-04\n",
            "Epoch 75/100\n",
            "\u001b[1m48/48\u001b[0m \u001b[32m━━━━━━━━━━━━━━━━━━━━\u001b[0m\u001b[37m\u001b[0m \u001b[1m38s\u001b[0m 694ms/step - accuracy: 0.9778 - loss: 1.6282 - val_accuracy: 0.9797 - val_loss: 1.5368 - learning_rate: 1.0000e-04\n",
            "Epoch 76/100\n",
            "\u001b[1m48/48\u001b[0m \u001b[32m━━━━━━━━━━━━━━━━━━━━\u001b[0m\u001b[37m\u001b[0m \u001b[1m38s\u001b[0m 693ms/step - accuracy: 0.9803 - loss: 1.5473 - val_accuracy: 0.9653 - val_loss: 1.5326 - learning_rate: 1.0000e-04\n",
            "Epoch 77/100\n",
            "\u001b[1m48/48\u001b[0m \u001b[32m━━━━━━━━━━━━━━━━━━━━\u001b[0m\u001b[37m\u001b[0m \u001b[1m38s\u001b[0m 691ms/step - accuracy: 0.9674 - loss: 1.4848 - val_accuracy: 0.9594 - val_loss: 1.4550 - learning_rate: 1.0000e-04\n",
            "Epoch 78/100\n",
            "\u001b[1m48/48\u001b[0m \u001b[32m━━━━━━━━━━━━━━━━━━━━\u001b[0m\u001b[37m\u001b[0m \u001b[1m38s\u001b[0m 700ms/step - accuracy: 0.9752 - loss: 1.4146 - val_accuracy: 0.9869 - val_loss: 1.3178 - learning_rate: 1.0000e-04\n",
            "Epoch 79/100\n",
            "\u001b[1m48/48\u001b[0m \u001b[32m━━━━━━━━━━━━━━━━━━━━\u001b[0m\u001b[37m\u001b[0m \u001b[1m38s\u001b[0m 687ms/step - accuracy: 0.9642 - loss: 1.3720 - val_accuracy: 0.9522 - val_loss: 1.3623 - learning_rate: 1.0000e-04\n",
            "Epoch 80/100\n",
            "\u001b[1m48/48\u001b[0m \u001b[32m━━━━━━━━━━━━━━━━━━━━\u001b[0m\u001b[37m\u001b[0m \u001b[1m38s\u001b[0m 686ms/step - accuracy: 0.9697 - loss: 1.3378 - val_accuracy: 0.9483 - val_loss: 1.3291 - learning_rate: 1.0000e-04\n",
            "Epoch 81/100\n",
            "\u001b[1m48/48\u001b[0m \u001b[32m━━━━━━━━━━━━━━━━━━━━\u001b[0m\u001b[37m\u001b[0m \u001b[1m37s\u001b[0m 685ms/step - accuracy: 0.9813 - loss: 1.2200 - val_accuracy: 0.9443 - val_loss: 1.2723 - learning_rate: 1.0000e-04\n",
            "Epoch 82/100\n",
            "\u001b[1m48/48\u001b[0m \u001b[32m━━━━━━━━━━━━━━━━━━━━\u001b[0m\u001b[37m\u001b[0m \u001b[1m37s\u001b[0m 683ms/step - accuracy: 0.9622 - loss: 1.2049 - val_accuracy: 0.9889 - val_loss: 1.0931 - learning_rate: 1.0000e-04\n",
            "Epoch 83/100\n",
            "\u001b[1m48/48\u001b[0m \u001b[32m━━━━━━━━━━━━━━━━━━━━\u001b[0m\u001b[37m\u001b[0m \u001b[1m37s\u001b[0m 687ms/step - accuracy: 0.9777 - loss: 1.1170 - val_accuracy: 0.9876 - val_loss: 1.0503 - learning_rate: 1.0000e-04\n",
            "Epoch 84/100\n",
            "\u001b[1m48/48\u001b[0m \u001b[32m━━━━━━━━━━━━━━━━━━━━\u001b[0m\u001b[37m\u001b[0m \u001b[1m38s\u001b[0m 691ms/step - accuracy: 0.9805 - loss: 1.0700 - val_accuracy: 0.9411 - val_loss: 1.1591 - learning_rate: 1.0000e-04\n",
            "Epoch 85/100\n",
            "\u001b[1m48/48\u001b[0m \u001b[32m━━━━━━━━━━━━━━━━━━━━\u001b[0m\u001b[37m\u001b[0m \u001b[1m38s\u001b[0m 691ms/step - accuracy: 0.9736 - loss: 1.0243 - val_accuracy: 0.9555 - val_loss: 1.0366 - learning_rate: 1.0000e-04\n",
            "Epoch 86/100\n",
            "\u001b[1m48/48\u001b[0m \u001b[32m━━━━━━━━━━━━━━━━━━━━\u001b[0m\u001b[37m\u001b[0m \u001b[1m37s\u001b[0m 691ms/step - accuracy: 0.9816 - loss: 0.9769 - val_accuracy: 0.9961 - val_loss: 0.8761 - learning_rate: 1.0000e-04\n",
            "Epoch 87/100\n",
            "\u001b[1m48/48\u001b[0m \u001b[32m━━━━━━━━━━━━━━━━━━━━\u001b[0m\u001b[37m\u001b[0m \u001b[1m38s\u001b[0m 690ms/step - accuracy: 0.9769 - loss: 0.9479 - val_accuracy: 0.9902 - val_loss: 0.8494 - learning_rate: 1.0000e-04\n",
            "Epoch 88/100\n",
            "\u001b[1m48/48\u001b[0m \u001b[32m━━━━━━━━━━━━━━━━━━━━\u001b[0m\u001b[37m\u001b[0m \u001b[1m37s\u001b[0m 689ms/step - accuracy: 0.9842 - loss: 0.8845 - val_accuracy: 0.9601 - val_loss: 0.9051 - learning_rate: 1.0000e-04\n",
            "Epoch 89/100\n",
            "\u001b[1m48/48\u001b[0m \u001b[32m━━━━━━━━━━━━━━━━━━━━\u001b[0m\u001b[37m\u001b[0m \u001b[1m38s\u001b[0m 689ms/step - accuracy: 0.9703 - loss: 0.8607 - val_accuracy: 0.9882 - val_loss: 0.7799 - learning_rate: 1.0000e-04\n",
            "Epoch 90/100\n",
            "\u001b[1m48/48\u001b[0m \u001b[32m━━━━━━━━━━━━━━━━━━━━\u001b[0m\u001b[37m\u001b[0m \u001b[1m38s\u001b[0m 693ms/step - accuracy: 0.9842 - loss: 0.7927 - val_accuracy: 0.9948 - val_loss: 0.7305 - learning_rate: 1.0000e-04\n",
            "Epoch 91/100\n",
            "\u001b[1m48/48\u001b[0m \u001b[32m━━━━━━━━━━━━━━━━━━━━\u001b[0m\u001b[37m\u001b[0m \u001b[1m37s\u001b[0m 689ms/step - accuracy: 0.9857 - loss: 0.7479 - val_accuracy: 0.9928 - val_loss: 0.7020 - learning_rate: 1.0000e-04\n",
            "Epoch 92/100\n",
            "\u001b[1m48/48\u001b[0m \u001b[32m━━━━━━━━━━━━━━━━━━━━\u001b[0m\u001b[37m\u001b[0m \u001b[1m38s\u001b[0m 693ms/step - accuracy: 0.9942 - loss: 0.7021 - val_accuracy: 0.9993 - val_loss: 0.6503 - learning_rate: 1.0000e-04\n",
            "Epoch 93/100\n",
            "\u001b[1m48/48\u001b[0m \u001b[32m━━━━━━━━━━━━━━━━━━━━\u001b[0m\u001b[37m\u001b[0m \u001b[1m38s\u001b[0m 691ms/step - accuracy: 0.9864 - loss: 0.6775 - val_accuracy: 0.9993 - val_loss: 0.6186 - learning_rate: 1.0000e-04\n",
            "Epoch 94/100\n",
            "\u001b[1m48/48\u001b[0m \u001b[32m━━━━━━━━━━━━━━━━━━━━\u001b[0m\u001b[37m\u001b[0m \u001b[1m38s\u001b[0m 693ms/step - accuracy: 0.9892 - loss: 0.6608 - val_accuracy: 0.9849 - val_loss: 0.6199 - learning_rate: 1.0000e-04\n",
            "Epoch 95/100\n",
            "\u001b[1m48/48\u001b[0m \u001b[32m━━━━━━━━━━━━━━━━━━━━\u001b[0m\u001b[37m\u001b[0m \u001b[1m38s\u001b[0m 687ms/step - accuracy: 0.9739 - loss: 0.6777 - val_accuracy: 0.9804 - val_loss: 0.6093 - learning_rate: 1.0000e-04\n",
            "Epoch 96/100\n",
            "\u001b[1m48/48\u001b[0m \u001b[32m━━━━━━━━━━━━━━━━━━━━\u001b[0m\u001b[37m\u001b[0m \u001b[1m37s\u001b[0m 685ms/step - accuracy: 0.9677 - loss: 0.6623 - val_accuracy: 0.9712 - val_loss: 0.6340 - learning_rate: 1.0000e-04\n",
            "Epoch 97/100\n",
            "\u001b[1m48/48\u001b[0m \u001b[32m━━━━━━━━━━━━━━━━━━━━\u001b[0m\u001b[37m\u001b[0m \u001b[1m38s\u001b[0m 688ms/step - accuracy: 0.9727 - loss: 0.6230 - val_accuracy: 0.9889 - val_loss: 0.5372 - learning_rate: 1.0000e-04\n",
            "Epoch 98/100\n",
            "\u001b[1m48/48\u001b[0m \u001b[32m━━━━━━━━━━━━━━━━━━━━\u001b[0m\u001b[37m\u001b[0m \u001b[1m38s\u001b[0m 690ms/step - accuracy: 0.9870 - loss: 0.5546 - val_accuracy: 0.9954 - val_loss: 0.4965 - learning_rate: 1.0000e-04\n",
            "Epoch 99/100\n",
            "\u001b[1m48/48\u001b[0m \u001b[32m━━━━━━━━━━━━━━━━━━━━\u001b[0m\u001b[37m\u001b[0m \u001b[1m38s\u001b[0m 695ms/step - accuracy: 0.9861 - loss: 0.5397 - val_accuracy: 0.9993 - val_loss: 0.4658 - learning_rate: 1.0000e-04\n",
            "Epoch 100/100\n",
            "\u001b[1m48/48\u001b[0m \u001b[32m━━━━━━━━━━━━━━━━━━━━\u001b[0m\u001b[37m\u001b[0m \u001b[1m37s\u001b[0m 685ms/step - accuracy: 0.9859 - loss: 0.5109 - val_accuracy: 0.9666 - val_loss: 0.5690 - learning_rate: 1.0000e-04\n"
          ]
        }
      ],
      "source": [
        "# Fit the model\n",
        "history = model.fit(\n",
        "    train_datagen.flow(train_images, train_labels_categorical, batch_size=BATCH_SIZE),\n",
        "    epochs=EPOCHS,\n",
        "    validation_data=test_datagen.flow(test_images, test_labels_categorical, batch_size=BATCH_SIZE),\n",
        "    callbacks=[reduce_lr, early_stopping],\n",
        "    class_weight=class_weight_dict\n",
        ")"
      ]
    },
    {
      "cell_type": "code",
      "execution_count": 24,
      "metadata": {
        "id": "TsTzr-xVSx5v",
        "colab": {
          "base_uri": "https://localhost:8080/",
          "height": 410
        },
        "outputId": "d8f41ce5-a5dd-4ade-9e29-a2f6d5317ccf"
      },
      "outputs": [
        {
          "output_type": "display_data",
          "data": {
            "text/plain": [
              "<Figure size 1200x400 with 2 Axes>"
            ],
            "image/png": "[encoded data removed]"
          },
          "metadata": {}
        }
      ],
      "source": [
        "# Plot accuracy and loss\n",
        "plt.figure(figsize=(12, 4))\n",
        "plt.subplot(1, 2, 1)\n",
        "plt.plot(history.history['accuracy'], label='Train')\n",
        "plt.plot(history.history['val_accuracy'], label='Validation')\n",
        "plt.title('Model accuracy')\n",
        "plt.ylabel('Accuracy')\n",
        "plt.xlabel('Epoch')\n",
        "plt.legend(loc='upper left')\n",
        "\n",
        "plt.subplot(1, 2, 2)\n",
        "plt.plot(history.history['loss'], label='Train')\n",
        "plt.plot(history.history['val_loss'], label='Validation')\n",
        "plt.title('Model loss')\n",
        "plt.ylabel('Loss')\n",
        "plt.xlabel('Epoch')\n",
        "plt.legend(loc='upper left')\n",
        "\n",
        "plt.show()\n"
      ]
    },
    {
      "cell_type": "code",
      "execution_count": 25,
      "metadata": {
        "id": "_amw5lQaS0Nz",
        "colab": {
          "base_uri": "https://localhost:8080/",
          "height": 950
        },
        "outputId": "b38c1540-b604-401d-dfe8-db753a0a978f"
      },
      "outputs": [
        {
          "output_type": "stream",
          "name": "stdout",
          "text": [
            "\u001b[1m48/48\u001b[0m \u001b[32m━━━━━━━━━━━━━━━━━━━━\u001b[0m\u001b[37m\u001b[0m \u001b[1m16s\u001b[0m 225ms/step\n",
            "              precision    recall  f1-score   support\n",
            "\n",
            "     Aitinyo       1.00      1.00      1.00       374\n",
            "     Ayamaru       1.00      1.00      1.00       311\n",
            "      Kokoda       1.00      1.00      1.00       302\n",
            "         Moi       1.00      1.00      1.00       301\n",
            "       Tehit       1.00      1.00      1.00       239\n",
            "\n",
            "    accuracy                           1.00      1527\n",
            "   macro avg       1.00      1.00      1.00      1527\n",
            "weighted avg       1.00      1.00      1.00      1527\n",
            "\n"
          ]
        },
        {
          "output_type": "display_data",
          "data": {
            "text/plain": [
              "<Figure size 1000x800 with 2 Axes>"
            ],
            "image/png": "[encoded data removed]"
          },
          "metadata": {}
        }
      ],
      "source": [
        "# Evaluate model\n",
        "predictions = model.predict(test_images)\n",
        "predicted_classes = np.argmax(predictions, axis=1)\n",
        "\n",
        "# Classification report and confusion matrix\n",
        "print(classification_report(test_labels_encoded, predicted_classes, target_names=encoder.classes_))\n",
        "cm = confusion_matrix(test_labels_encoded, predicted_classes)\n",
        "plt.figure(figsize=(10, 8))\n",
        "sns.heatmap(cm, annot=True, fmt='d', cmap='Blues', xticklabels=encoder.classes_, yticklabels=encoder.classes_)\n",
        "plt.ylabel('Actual')\n",
        "plt.xlabel('Predicted')\n",
        "plt.title('Confusion Matrix')\n",
        "plt.show()"
      ]
    },
    {
      "cell_type": "code",
      "source": [
        "import random\n",
        "import matplotlib.pyplot as plt\n",
        "import numpy as np\n",
        "\n",
        "random_index = random.randint(0, len(test_images) - 1)\n",
        "image = test_images[random_index]\n",
        "true_label = test_labels[random_index]\n",
        "\n",
        "prediction = model.predict(np.expand_dims(image, axis=0))[0]\n",
        "predicted_class_index = np.argmax(prediction)\n",
        "predicted_class_label = encoder.classes_[predicted_class_index]\n",
        "confidence = prediction[predicted_class_index]"
      ],
      "metadata": {
        "id": "X72vuk-0vKlv"
      },
      "execution_count": null,
      "outputs": []
    },
    {
      "cell_type": "code",
      "source": [
        "plt.imshow(image)\n",
        "plt.title(f\"True Label: {true_label}\\nPredicted Label: {predicted_class_label}\\nConfidence: {confidence:.2f}\")\n",
        "plt.axis('off')\n",
        "plt.show()"
      ],
      "metadata": {
        "id": "5Tb_iYPzvSq6"
      },
      "execution_count": null,
      "outputs": []
    },
    {
      "cell_type": "code",
      "source": [
        "import numpy as np\n",
        "\n",
        "def calculate_mse(original_image, predicted_image):\n",
        "  \"\"\"Menghitung MSE antara dua gambar.\"\"\"\n",
        "  mse = np.mean((original_image - predicted_image)**2)\n",
        "  return mse\n",
        "\n",
        "def calculate_psnr(original_image, predicted_image, max_pixel_value=255.0):\n",
        "  \"\"\"Menghitung PSNR antara dua gambar.\"\"\"\n",
        "  mse = calculate_mse(original_image, predicted_image)\n",
        "  if mse == 0:\n",
        "    psnr = float('inf')  # PSNR tak terhingga jika MSE nol\n",
        "  else:\n",
        "    psnr = 20 * np.log10(max_pixel_value / np.sqrt(mse))\n",
        "  return psnr\n",
        "\n",
        "# Dapatkan gambar asli\n",
        "original_image = test_images[random_index]\n",
        "\n",
        "# Lakukan prediksi menggunakan model\n",
        "prediction = model.predict(np.expand_dims(original_image, axis=0))[0]\n",
        "predicted_class_index = np.argmax(prediction)\n",
        "predicted_class_label = encoder.classes_[predicted_class_index]\n",
        "\n",
        "predicted_image = get_representative_image(predicted_class_label)\n",
        "\n",
        "# Pastikan dimensi predicted_image sudah benar\n",
        "predicted_image = cv2.resize(predicted_image, (224, 224))\n",
        "\n",
        "# Ganti predicted_image dengan gambar yang diprediksi\n",
        "#prediction_image = prediction\n",
        "#predicted_image = model.predict(np.expand_dims(original_image, axis=0))[0]  # Sesuaikan dengan output model\n",
        "#predicted_image = original_image\n",
        "\n",
        "print(\"Shape of original_image:\", original_image.shape)\n",
        "print(\"Shape of predicted_image:\", predicted_image.shape)\n",
        "\n",
        "#mse = calculate_mse(original_image, predicted_image)\n",
        "#psnr = calculate_psnr(original_image, predicted_image)\n",
        "\n",
        "#print(f\"MSE: {mse:.2f}\")\n",
        "#print(f\"PSNR: {psnr:.2f} dB\")"
      ],
      "metadata": {
        "colab": {
          "base_uri": "https://localhost:8080/",
          "height": 450
        },
        "outputId": "f4f119b1-d6f7-4439-8eee-706a86d9cc04",
        "id": "0hPpkTmLqKkX"
      },
      "execution_count": 28,
      "outputs": [
        {
          "metadata": {
            "tags": null
          },
          "name": "stdout",
          "output_type": "stream",
          "text": [
            "\u001b[1m1/1\u001b[0m \u001b[32m━━━━━━━━━━━━━━━━━━━━\u001b[0m\u001b[37m\u001b[0m \u001b[1m0s\u001b[0m 22ms/step\n"
          ]
        },
        {
          "ename": "NameError",
          "evalue": "name 'get_representative_image' is not defined",
          "output_type": "error",
          "traceback": [
            "\u001b[0;31m---------------------------------------------------------------------------\u001b[0m",
            "\u001b[0;31mNameError\u001b[0m                                 Traceback (most recent call last)",
            "\u001b[0;32m<ipython-input-28-6072a76c04e1>\u001b[0m in \u001b[0;36m<cell line: 25>\u001b[0;34m()\u001b[0m\n\u001b[1;32m     23\u001b[0m \u001b[0mpredicted_class_label\u001b[0m \u001b[0;34m=\u001b[0m \u001b[0mencoder\u001b[0m\u001b[0;34m.\u001b[0m\u001b[0mclasses_\u001b[0m\u001b[0;34m[\u001b[0m\u001b[0mpredicted_class_index\u001b[0m\u001b[0;34m]\u001b[0m\u001b[0;34m\u001b[0m\u001b[0;34m\u001b[0m\u001b[0m\n\u001b[1;32m     24\u001b[0m \u001b[0;34m\u001b[0m\u001b[0m\n\u001b[0;32m---> 25\u001b[0;31m \u001b[0mpredicted_image\u001b[0m \u001b[0;34m=\u001b[0m \u001b[0mget_representative_image\u001b[0m\u001b[0;34m(\u001b[0m\u001b[0mpredicted_class_label\u001b[0m\u001b[0;34m)\u001b[0m\u001b[0;34m\u001b[0m\u001b[0;34m\u001b[0m\u001b[0m\n\u001b[0m\u001b[1;32m     26\u001b[0m \u001b[0;34m\u001b[0m\u001b[0m\n\u001b[1;32m     27\u001b[0m \u001b[0;31m# Pastikan dimensi predicted_image sudah benar\u001b[0m\u001b[0;34m\u001b[0m\u001b[0;34m\u001b[0m\u001b[0m\n",
            "\u001b[0;31mNameError\u001b[0m: name 'get_representative_image' is not defined"
          ]
        },
        {
          "output_type": "stream",
          "name": "stdout",
          "text": [
            "\u001b[1m1/1\u001b[0m \u001b[32m━━━━━━━━━━━━━━━━━━━━\u001b[0m\u001b[37m\u001b[0m \u001b[1m0s\u001b[0m 22ms/step\n"
          ]
        },
        {
          "output_type": "error",
          "ename": "NameError",
          "evalue": "name 'get_representative_image' is not defined",
          "traceback": [
            "\u001b[0;31m---------------------------------------------------------------------------\u001b[0m",
            "\u001b[0;31mNameError\u001b[0m                                 Traceback (most recent call last)",
            "\u001b[0;32m<ipython-input-28-6072a76c04e1>\u001b[0m in \u001b[0;36m<cell line: 25>\u001b[0;34m()\u001b[0m\n\u001b[1;32m     23\u001b[0m \u001b[0mpredicted_class_label\u001b[0m \u001b[0;34m=\u001b[0m \u001b[0mencoder\u001b[0m\u001b[0;34m.\u001b[0m\u001b[0mclasses_\u001b[0m\u001b[0;34m[\u001b[0m\u001b[0mpredicted_class_index\u001b[0m\u001b[0;34m]\u001b[0m\u001b[0;34m\u001b[0m\u001b[0;34m\u001b[0m\u001b[0m\n\u001b[1;32m     24\u001b[0m \u001b[0;34m\u001b[0m\u001b[0m\n\u001b[0;32m---> 25\u001b[0;31m \u001b[0mpredicted_image\u001b[0m \u001b[0;34m=\u001b[0m \u001b[0mget_representative_image\u001b[0m\u001b[0;34m(\u001b[0m\u001b[0mpredicted_class_label\u001b[0m\u001b[0;34m)\u001b[0m\u001b[0;34m\u001b[0m\u001b[0;34m\u001b[0m\u001b[0m\n\u001b[0m\u001b[1;32m     26\u001b[0m \u001b[0;34m\u001b[0m\u001b[0m\n\u001b[1;32m     27\u001b[0m \u001b[0;31m# Pastikan dimensi predicted_image sudah benar\u001b[0m\u001b[0;34m\u001b[0m\u001b[0;34m\u001b[0m\u001b[0m\n",
            "\u001b[0;31mNameError\u001b[0m: name 'get_representative_image' is not defined"
          ]
        }
      ]
    }
  ],
  "metadata": {
    "colab": {
      "provenance": [],
      "gpuType": "T4",
      "machine_shape": "hm",
      "authorship_tag": "ABX9TyM99wjmZl6pfAIduvufpcoq",
      "include_colab_link": true
    },
    "kernelspec": {
      "display_name": "Python 3",
      "name": "python3"
    },
    "language_info": {
      "name": "python"
    },
    "accelerator": "GPU"
  },
  "nbformat": 4,
  "nbformat_minor": 0
}